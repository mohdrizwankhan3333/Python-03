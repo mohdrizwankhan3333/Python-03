{
 "cells": [
  {
   "cell_type": "code",
   "execution_count": 11,
   "id": "c192efac-ae8f-4d82-9c42-e3bec902a85b",
   "metadata": {},
   "outputs": [
    {
     "name": "stdin",
     "output_type": "stream",
     "text": [
      "enter your name : rizwan\n",
      "enter user pasward  98987865\n"
     ]
    },
    {
     "name": "stdout",
     "output_type": "stream",
     "text": [
      "you have succesfully logged in \n"
     ]
    }
   ],
   "source": [
    "user_name='rizwan'\n",
    "user_pasward='98987865'\n",
    "if (user_name ==input(\"enter your name :\") and user_pasward ==input(\"enter user pasward \")):\n",
    "    print(\"you have succesfully logged in \")\n",
    "else:\n",
    "    print(\" enter correct user name and passward\")"
   ]
  },
  {
   "cell_type": "code",
   "execution_count": 8,
   "id": "19464998-9cba-425c-b925-8d489936a748",
   "metadata": {},
   "outputs": [
    {
     "name": "stdout",
     "output_type": "stream",
     "text": [
      "yuu\n",
      "fd\n",
      "gf\n"
     ]
    }
   ],
   "source": [
    "mob={'fd','gf','yuu'}\n",
    "name={'mohd','khan','rizwan'}\n",
    "for i in mob :\n",
    "    print(i)"
   ]
  },
  {
   "cell_type": "code",
   "execution_count": 26,
   "id": "5f11257b-cae3-44ec-8388-27d123ab650a",
   "metadata": {},
   "outputs": [
    {
     "name": "stdout",
     "output_type": "stream",
     "text": [
      "[2, 3, 4, 5, 3, 5, 6, 6] ['poiuy', 'mnbvc', 'hgfds', 'tttr']\n"
     ]
    }
   ],
   "source": [
    "st=(2,3,4,5,'poiuy','mnbvc','hgfds','tttr',3,5,6,6)\n",
    "l=[]\n",
    "k=[]\n",
    "for i in st:\n",
    "    if type(i)==str:\n",
    "        l.append(i)\n",
    "        \n",
    "    elif type(i)==int:\n",
    "        k.append(i)\n",
    "print(k,l)\n"
   ]
  },
  {
   "cell_type": "code",
   "execution_count": 19,
   "id": "ad6a8e50-ee32-4715-a796-bd5d87d4d26e",
   "metadata": {},
   "outputs": [
    {
     "name": "stdout",
     "output_type": "stream",
     "text": [
      "[1, 2, 3, 4]\n"
     ]
    }
   ],
   "source": [
    "my_list = [1, 2, 3]\n",
    "my_list.append(4)\n",
    "print(my_list)\n"
   ]
  },
  {
   "cell_type": "code",
   "execution_count": 32,
   "id": "bc92d8e1-9196-4e2b-a224-9fb29bdf1220",
   "metadata": {},
   "outputs": [
    {
     "name": "stdout",
     "output_type": "stream",
     "text": [
      "dict_values(['jmi', 2243276543, 'rizwan', 32, 'maulana azad nager aliagrh', 'up', 5443434343])\n",
      "dict_keys(['college', 'mob', 'name', 'age', 'address', 'state', 'bro_mob_no'])\n"
     ]
    }
   ],
   "source": [
    "d={'college':'jmi','mob':2243276543,'name':'rizwan','age':32,'address':'maulana azad nager aliagrh','state':'up','bro_mob_no':5443434343}\n",
    "for i in d.values(),d.keys():\n",
    "    print(i)"
   ]
  },
  {
   "cell_type": "code",
   "execution_count": null,
   "id": "4a89bc61-b135-4e3e-9c49-82d5889d54dc",
   "metadata": {},
   "outputs": [],
   "source": []
  }
 ],
 "metadata": {
  "kernelspec": {
   "display_name": "Python 3 (ipykernel)",
   "language": "python",
   "name": "python3"
  },
  "language_info": {
   "codemirror_mode": {
    "name": "ipython",
    "version": 3
   },
   "file_extension": ".py",
   "mimetype": "text/x-python",
   "name": "python",
   "nbconvert_exporter": "python",
   "pygments_lexer": "ipython3",
   "version": "3.10.8"
  }
 },
 "nbformat": 4,
 "nbformat_minor": 5
}
