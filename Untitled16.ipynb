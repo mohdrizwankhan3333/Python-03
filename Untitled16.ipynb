{
 "cells": [
  {
   "cell_type": "code",
   "execution_count": 1,
   "id": "28640f63-a1c5-495d-b0ed-c525400df1c0",
   "metadata": {},
   "outputs": [
    {
     "ename": "ERROR",
     "evalue": "Error in parse(text = x, srcfile = src): <text>:1:8: unexpected symbol\n1: import time\n           ^\n",
     "output_type": "error",
     "traceback": [
      "Error in parse(text = x, srcfile = src): <text>:1:8: unexpected symbol\n1: import time\n           ^\nTraceback:\n"
     ]
    }
   ],
   "source": [
    "import time\n",
    "stop = False \n",
    "print(\"Enter 's' to stop the timer.\")\n",
    "while not 1:\n",
    "    time.sleep(1)\n",
    "    press_stop = input(\"Enter 's' to stop: \")\n",
    "    if press_stop.lower() == 's':\n",
    "        stop = True\n",
    "print(\"The class break is over.\")"
   ]
  },
  {
   "cell_type": "code",
   "execution_count": 2,
   "id": "501bd95a-edac-4ad9-8f4c-b41b0cff4767",
   "metadata": {},
   "outputs": [
    {
     "ename": "ERROR",
     "evalue": "Error in parse(text = x, srcfile = src): <text>:1:8: unexpected symbol\n1: import time\n           ^\n",
     "output_type": "error",
     "traceback": [
      "Error in parse(text = x, srcfile = src): <text>:1:8: unexpected symbol\n1: import time\n           ^\nTraceback:\n"
     ]
    }
   ],
   "source": [
    "import time\n",
    "stop = False \n",
    "print(\"Enter 's' to stop the timer.\")\n",
    "while not stop:\n",
    "    time.sleep(1)\n",
    "    press_stop = input(\"Enter 's' to stop: \")\n",
    "    if press_stop.lower() == 's':\n",
    "        stop = True\n",
    "print(\"The class break is over.\")\n",
    "\n"
   ]
  },
  {
   "cell_type": "code",
   "execution_count": null,
   "id": "afce0199-a8f0-4b5b-8978-a050427a060c",
   "metadata": {},
   "outputs": [],
   "source": []
  }
 ],
 "metadata": {
  "kernelspec": {
   "display_name": "R",
   "language": "R",
   "name": "ir"
  },
  "language_info": {
   "codemirror_mode": "r",
   "file_extension": ".r",
   "mimetype": "text/x-r-source",
   "name": "R",
   "pygments_lexer": "r",
   "version": "4.2.2"
  }
 },
 "nbformat": 4,
 "nbformat_minor": 5
}
