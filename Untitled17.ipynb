{
 "cells": [
  {
   "cell_type": "code",
   "execution_count": 3,
   "id": "f67a2f44-d28d-4a7c-8038-dca36db3025c",
   "metadata": {},
   "outputs": [
    {
     "name": "stdout",
     "output_type": "stream",
     "text": [
      "1,2,3,4,5,6,7,8,9,10,"
     ]
    }
   ],
   "source": [
    "#For Loop :-\n",
    "\n",
    "# 01 Write a Python program to print numbers from 1 to 10 using a for loop.\n",
    "for i in range(1,11):\n",
    "    print(i,end=',')"
   ]
  },
  {
   "cell_type": "code",
   "execution_count": null,
   "id": "17f23c01-0eb0-4d3e-919b-5ffda4851b5d",
   "metadata": {},
   "outputs": [],
   "source": [
    "# 02 Explain the difference between a for loop and a while loop in Python.\n",
    "(1) while loop:-A while loop is used when you want to repeatedly execute a block of code as long as a certain condition is true.\n",
    "The loop continues to execute until the condition becomes false.\n",
    "syntax:-\n",
    "while condition:\n",
    "# Code to be executed as long as the condition is true\n",
    "\n",
    "(2) for loop:-A for loop is used to iterate over a sequence (such as a list, tuple, string, or range) and execute a block of \n",
    "code for each item in the sequence.\n",
    "syntax:-\n",
    "for variable in sequence:\n",
    "# Code to be executed for each iteration"
   ]
  },
  {
   "cell_type": "code",
   "execution_count": null,
   "id": "b607cad2-bec0-4c88-8026-6399e699427b",
   "metadata": {},
   "outputs": [],
   "source": [
    "# 04 How do you iterate through a list using a for loop in Python?\n",
    "In Python, you can use a for loop to iterate through the elements of a list. The basic syntax for a for loopis as follows:\n",
    "syntax:-\n",
    "for element in my_list:\n",
    "# Code to be executed for each element\n",
    "Here, my_list is the list you want to iterate through, and element is a variable that will take on each value in \n",
    "the list one at a time during each iteration. You can choose any valid variable name in place of element."
   ]
  },
  {
   "cell_type": "code",
   "execution_count": 8,
   "id": "33d2a3e2-225c-41af-947c-a1cb677ff04f",
   "metadata": {},
   "outputs": [
    {
     "name": "stdout",
     "output_type": "stream",
     "text": [
      "product of list is =120\n"
     ]
    }
   ],
   "source": [
    "# 05 Write a Python program to find the product of all elements in a list using a for loop.\n",
    "l=[1,2,3,4,5]\n",
    "s=1\n",
    "for i in l:\n",
    "    s*=i\n",
    "print(f\"product of list is = {s}\")"
   ]
  },
  {
   "cell_type": "code",
   "execution_count": 7,
   "id": "a16b980f-617e-496b-a17c-9cc1774b6683",
   "metadata": {},
   "outputs": [
    {
     "name": "stdout",
     "output_type": "stream",
     "text": [
      "5050\n"
     ]
    }
   ],
   "source": [
    "# 03 Write a Python program to calculate the sum of all numbers from 1 to 100 using a for loop.\n",
    "s=0\n",
    "for i in range (1,101):\n",
    "    s+=i\n",
    "print(s)"
   ]
  },
  {
   "cell_type": "code",
   "execution_count": 18,
   "id": "48b81c9b-fa4b-47b5-a9fe-6e8c13ad8904",
   "metadata": {},
   "outputs": [
    {
     "name": "stdout",
     "output_type": "stream",
     "text": [
      "2,4,6,8,10,12,14,16,18,20,\n",
      "even numbers from 1 to 20 are given above \n"
     ]
    }
   ],
   "source": [
    "#06 Create a Python program that prints all even numbers from 1 to 20 using a for loop.\n",
    "for i in range(1,21):\n",
    "    if i%2==0:\n",
    "        print(i,end=',')\n",
    "print()\n",
    "print(\"even numbers from 1 to 20 are given above \")\n",
    "         "
   ]
  },
  {
   "cell_type": "code",
   "execution_count": 22,
   "id": "aa764235-14ec-4bc9-b2e0-a563b6f18624",
   "metadata": {},
   "outputs": [
    {
     "name": "stdin",
     "output_type": "stream",
     "text": [
      "enter number to find it's factorial : 5\n"
     ]
    },
    {
     "name": "stdout",
     "output_type": "stream",
     "text": [
      "factorial of 5 is = 120\n"
     ]
    }
   ],
   "source": [
    "# 07 Write a Python program that calculates the factorial of a number using a for loop.\n",
    "f=1\n",
    "n=int(input(\"enter number to find it's factorial :\"))\n",
    "for i in range(1,n+1):\n",
    "    f*=i\n",
    "print(f\"factorial of {n} is = {f}\")"
   ]
  },
  {
   "cell_type": "code",
   "execution_count": null,
   "id": "ef5a73ce-316b-4572-9a55-af676b00404f",
   "metadata": {},
   "outputs": [],
   "source": [
    "# 08 How can you iterate through the characters of a string using a for loop in Python?\n",
    "You can iterate through the characters of a string in Python using a for loop. The basic syntax is similar to iterating\n",
    "through a list.\n",
    "syntax:-\n",
    "string = \"Hello, World!\"\n",
    "for char in string:\n",
    "# Code to be executed for each character\n",
    "    print(char)\n",
    "In this example, the for loop iterates through each character in the my_string and prints each character on a new line. \n",
    "You can replace string with the actual string you want to iterate through."
   ]
  },
  {
   "cell_type": "code",
   "execution_count": 30,
   "id": "63814127-4675-438f-b871-0214a45cf588",
   "metadata": {},
   "outputs": [
    {
     "name": "stdout",
     "output_type": "stream",
     "text": [
      "largest in number in [1, 2, 3, 56, 7, 8] is => 56\n"
     ]
    }
   ],
   "source": [
    "# 09 Write a Python program to find the largest number in a list using a for loop.\n",
    "l=[1,2,3,56,7,8]\n",
    "m=l[0]\n",
    "for i in l:\n",
    "     if (m < i):\n",
    "        m=i\n",
    "print(f\"largest in number in {l} is => {m}\")"
   ]
  },
  {
   "cell_type": "code",
   "execution_count": 3,
   "id": "4e9369dc-9187-41b1-8215-e5f6d726ccb5",
   "metadata": {},
   "outputs": [
    {
     "name": "stdin",
     "output_type": "stream",
     "text": [
      "Enter the number to find the Fibonacci sequence:  6\n"
     ]
    },
    {
     "name": "stdout",
     "output_type": "stream",
     "text": [
      "0 1 1 2 3 5 "
     ]
    }
   ],
   "source": [
    "# 10 Create a Python program that prints the Fibonacci sequence up to a specified limit using a for loop.\n",
    "n = int(input(\"Enter the number to find the Fibonacci sequence: \"))\n",
    "a, b = 0, 1\n",
    "for i in range(n):\n",
    "    print(a, end=\" \")\n",
    "    c = a + b\n",
    "    b,a=a,c"
   ]
  },
  {
   "cell_type": "code",
   "execution_count": 6,
   "id": "0995ecbb-8b28-460d-bfe9-d88c67a30f9c",
   "metadata": {},
   "outputs": [
    {
     "name": "stdout",
     "output_type": "stream",
     "text": [
      "number of vowels is =  3\n"
     ]
    }
   ],
   "source": [
    "# 11 Write a Python program to count the number of vowels in a given string using a for loop.\n",
    "s='rizwan khan'\n",
    "c=0\n",
    "for i in s:\n",
    "    if i in 'aioeuAOIUE':\n",
    "        c+=1\n",
    "print(\"number of vowels is = \",c)"
   ]
  },
  {
   "cell_type": "code",
   "execution_count": 9,
   "id": "c60c03de-641c-45bc-ab3f-5da62f110157",
   "metadata": {},
   "outputs": [
    {
     "name": "stdin",
     "output_type": "stream",
     "text": [
      "enter number to find multiplication  7\n"
     ]
    },
    {
     "name": "stdout",
     "output_type": "stream",
     "text": [
      "table of 7 is here :-\n",
      "7 x 1 = 7\n",
      "7 x 2 = 14\n",
      "7 x 3 = 21\n",
      "7 x 4 = 28\n",
      "7 x 5 = 35\n",
      "7 x 6 = 42\n",
      "7 x 7 = 49\n",
      "7 x 8 = 56\n",
      "7 x 9 = 63\n",
      "7 x 10 = 70\n"
     ]
    }
   ],
   "source": [
    "# 12 Create a Python program that generates a multiplication table for a given number using a for loop.\n",
    "num=int(input(\"enter number to find multiplication \"))\n",
    "print(f\"table of {num} is here :-\")\n",
    "for i in range(1,11):\n",
    "    print(num,'x',i,'=',num*i)"
   ]
  },
  {
   "cell_type": "code",
   "execution_count": 26,
   "id": "bd89fc0b-3458-4164-9647-200b332ae749",
   "metadata": {},
   "outputs": [
    {
     "name": "stdout",
     "output_type": "stream",
     "text": [
      "Original List: [1, 21, 3, 47, 95, 16]\n",
      "Reversed List: [16, 95, 47, 3, 21, 1]\n"
     ]
    }
   ],
   "source": [
    "# 13 Write a Python program to reverse a list using a for loop.\n",
    "l = [1, 21, 3, 47, 95, 16]\n",
    "l1 = []\n",
    "# Iterate over the original list in reverse order\n",
    "for i in range(len(l)-1, -1, -1):\n",
    "    l1.append(l[i])\n",
    "print(\"Original List:\", l)\n",
    "print(\"Reversed List:\", l1)"
   ]
  },
  {
   "cell_type": "code",
   "execution_count": 30,
   "id": "67dad55d-3d20-46d4-a78f-4caf62010919",
   "metadata": {},
   "outputs": [
    {
     "name": "stdout",
     "output_type": "stream",
     "text": [
      "Common elements: [566]\n"
     ]
    }
   ],
   "source": [
    "# 14 Write a Python program to find the common elements between two lists using a for loop.\n",
    "l1 = [1, 2, 3, 4, 566, 6]\n",
    "l2 = [7, 8, 9, 78, 12, 566]\n",
    "common_elements = []\n",
    "for i in l1:\n",
    "    if i in l2:\n",
    "        common_elements.append(i)\n",
    "print(\"Common elements:\", common_elements)"
   ]
  },
  {
   "cell_type": "code",
   "execution_count": null,
   "id": "9e8e722f-5f0a-4612-a8c7-8276de1ecc45",
   "metadata": {},
   "outputs": [],
   "source": [
    "# 15 Explain how to use a for loop to iterate through the keys and values of a dictionary in Python.\n",
    "In Python, you can use a for loop to iterate through the keys and values of a dictionary using the items() method. \n",
    "The items() method returns a view object that displays a list of a dictionary'skey-value tuple pairs.\n",
    "example:-\n",
    "my_dict = {'a': 1, 'b': 2, 'c': 3, 'd': 4}\n",
    "# Iterate through keys and values using items()\n",
    "for key, value in my_dict.items():\n",
    "    print(f\"Key: {key}, Value: {value}\")"
   ]
  },
  {
   "cell_type": "code",
   "execution_count": 2,
   "id": "bad81129-a1dd-49ae-98ca-359fa178112c",
   "metadata": {},
   "outputs": [
    {
     "name": "stdin",
     "output_type": "stream",
     "text": [
      "Enter the first number:  10\n",
      "Enter the second number:  9\n"
     ]
    },
    {
     "name": "stdout",
     "output_type": "stream",
     "text": [
      "The GCD of 10 and 9 is: 1\n"
     ]
    }
   ],
   "source": [
    "# 16 Write a Python program to find the GCD (Greatest Common Divisor) of two numbers using a for loop.\n",
    "def find_gcd(x, y):\n",
    "    while y:\n",
    "        x, y = y, x % y\n",
    "    return x\n",
    "num1 = int(input(\"Enter the first number: \"))\n",
    "num2 = int(input(\"Enter the second number: \"))\n",
    "gcd = find_gcd(num1, num2)\n",
    "print(\"The GCD of\", num1, \"and\", num2, \"is:\", gcd)"
   ]
  },
  {
   "cell_type": "code",
   "execution_count": 8,
   "id": "7c47e1c6-11b6-40ae-ae10-864ad00acd49",
   "metadata": {},
   "outputs": [
    {
     "name": "stdout",
     "output_type": "stream",
     "text": [
      "True\n",
      "False\n"
     ]
    }
   ],
   "source": [
    "# 17 Create a Python program that checks if a string is a palindrome using a for loop.\n",
    "def is_palindrome(s):\n",
    "    for i in range(len(s) // 2):\n",
    "        if s[i] != s[-i - 1]:\n",
    "            return False\n",
    "    return True\n",
    "print(is_palindrome('madam'))  \n",
    "print(is_palindrome('rizwan'))  "
   ]
  },
  {
   "cell_type": "code",
   "execution_count": 11,
   "id": "54520d8a-3aa7-4404-9301-1009e78db5aa",
   "metadata": {},
   "outputs": [
    {
     "name": "stdout",
     "output_type": "stream",
     "text": [
      "[1, 2, 3, 4, 5, 6, 7]\n"
     ]
    }
   ],
   "source": [
    "# 18 Write a Python program to remove duplicates from a list using a for loop.\n",
    "l = [1, 2, 3, 4, 5, 6, 7, 5, 4, 3]\n",
    "l1 = []\n",
    "for i in l:\n",
    "    if i not in l1:\n",
    "        l1.append(i)\n",
    "print(l1)"
   ]
  },
  {
   "cell_type": "code",
   "execution_count": 13,
   "id": "d331fa7f-4736-499f-b804-2a4c5c799f2e",
   "metadata": {},
   "outputs": [
    {
     "name": "stdout",
     "output_type": "stream",
     "text": [
      "11\n"
     ]
    }
   ],
   "source": [
    "# 19 Create a Python program that counts the number of words in a sentence using a for loop.\n",
    "string=\"rizwan khan\"\n",
    "c=0\n",
    "for i in string:\n",
    "    c+=1\n",
    "print(c)"
   ]
  },
  {
   "cell_type": "code",
   "execution_count": 16,
   "id": "086f52e0-623a-4d00-b330-8f55cccc8e8d",
   "metadata": {},
   "outputs": [
    {
     "name": "stdout",
     "output_type": "stream",
     "text": [
      "sum of all odd number is 625\n"
     ]
    }
   ],
   "source": [
    "# 20 Write a Python program to find the sum of all odd numbers from 1 to 50 using a for loop.\n",
    "s=0\n",
    "for i in range(1,51):\n",
    "    if i%2!=0:\n",
    "        s+=i\n",
    "print(f\"sum of all odd number is {s}\")"
   ]
  },
  {
   "cell_type": "code",
   "execution_count": null,
   "id": "2252b729-42e0-458b-b508-62ac01c35aaa",
   "metadata": {},
   "outputs": [],
   "source": [
    "# 21 Write a Python program that checks if a given year is a leap year using a for loop.\n",
    "def is_leap_year(year):\n",
    "    if (year % 4 == 0 and year % 100 != 0) or (year % 400 == 0):\n",
    "        return True\n",
    "    else:\n",
    "        return False\n",
    "user_year = int(input(\"Enter a year: \"))\n",
    "if is_leap_year(user_year):\n",
    "    print(f\"{user_year} is a leap year.\")\n",
    "else:\n",
    "    print(f\"{user_year} is not a leap year.\")"
   ]
  },
  {
   "cell_type": "code",
   "execution_count": 21,
   "id": "471523cc-6c4d-4282-be7a-68ebfef84f70",
   "metadata": {},
   "outputs": [
    {
     "name": "stdin",
     "output_type": "stream",
     "text": [
      "Enter a number:  9\n"
     ]
    },
    {
     "name": "stdout",
     "output_type": "stream",
     "text": [
      "The square root of 9.0 is approximately 3.000000\n"
     ]
    }
   ],
   "source": [
    "# 22 Create a Python program that calculates the square root of a number using a for loop.\n",
    "def calculate_square_root(number, iterations=100):\n",
    "    approximation = number / 2.0  \n",
    "    for _ in range(iterations):\n",
    "        approximation = 0.5 * (approximation + number / approximation)\n",
    "    return approximation\n",
    "user_number = float(input(\"Enter a number: \"))\n",
    "result = calculate_square_root(user_number)\n",
    "print(f\"The square root of {user_number} is approximately {result:.6f}\")"
   ]
  },
  {
   "cell_type": "code",
   "execution_count": 22,
   "id": "cc19a4bb-4fcc-4989-927d-f1dc2d79a2aa",
   "metadata": {},
   "outputs": [
    {
     "name": "stdin",
     "output_type": "stream",
     "text": [
      "Enter the first number:  15 \n",
      "Enter the second number:  5\n"
     ]
    },
    {
     "name": "stdout",
     "output_type": "stream",
     "text": [
      "The LCM of 15 and 5 is: 15\n"
     ]
    }
   ],
   "source": [
    "# 23 Write a Python program to find the LCM (Least Common Multiple) of two numbers using a for loop.\n",
    "def find_gcd(x, y):\n",
    "    while y:\n",
    "        x, y = y, x % y\n",
    "    return x\n",
    "def find_lcm(a, b):\n",
    "    gcd = find_gcd(a, b)\n",
    "    lcm = abs(a * b) // gcd\n",
    "    return lcm\n",
    "num1 = int(input(\"Enter the first number: \"))\n",
    "num2 = int(input(\"Enter the second number: \"))\n",
    "lcm = find_lcm(num1, num2)\n",
    "print(f\"The LCM of {num1} and {num2} is: {lcm}\")"
   ]
  },
  {
   "cell_type": "code",
   "execution_count": 24,
   "id": "156c2c65-ab17-4f10-8766-7c06ae4c747e",
   "metadata": {},
   "outputs": [
    {
     "name": "stdout",
     "output_type": "stream",
     "text": [
      "zero\n"
     ]
    }
   ],
   "source": [
    "# If else :-\n",
    "#1 Write a Python program to check if a number is positive, negative, or zero using an if-else statement.\n",
    "n=0\n",
    "if n==0:\n",
    "    print(\"zero\")\n",
    "elif n>0:\n",
    "    print(\"positive\")\n",
    "else:\n",
    "    print(\"negative\")"
   ]
  },
  {
   "cell_type": "code",
   "execution_count": 25,
   "id": "bd3e66a2-b425-4c43-8d59-0ecadf4e162e",
   "metadata": {},
   "outputs": [
    {
     "name": "stdout",
     "output_type": "stream",
     "text": [
      "even\n"
     ]
    }
   ],
   "source": [
    "#2 Create a Python program that checks if a given number is even or odd using an if-else statement.\n",
    "n=90\n",
    "if n%2==0:\n",
    "    print(\"even\")\n",
    "else:\n",
    "    print(\"odd\")"
   ]
  },
  {
   "cell_type": "code",
   "execution_count": 33,
   "id": "1fafb3a6-f6c8-4ee1-bbff-c35a108fa171",
   "metadata": {},
   "outputs": [
    {
     "name": "stdin",
     "output_type": "stream",
     "text": [
      "Enter a number:  6\n"
     ]
    },
    {
     "name": "stdout",
     "output_type": "stream",
     "text": [
      "The number is positive.\n",
      "The number is even.\n"
     ]
    }
   ],
   "source": [
    "#3 How can you use nested if-else statements in Python, and provide an example?\n",
    "Nested if-else statements in Python are used when you have multiple conditions, and you \n",
    "want to check one condition within another. This allows you to create more complex decision-making structures. \n",
    "example:-\n",
    "num = int(input(\"Enter a number: \"))\n",
    "if num > 0:\n",
    "    print(\"The number is positive.\")\n",
    "    if num % 2 == 0:\n",
    "        print(\"The number is even.\")\n",
    "    else:\n",
    "        print(\"The number is odd.\")\n",
    "else:\n",
    "    print(\"The number is non-positive.\")"
   ]
  },
  {
   "cell_type": "code",
   "execution_count": 31,
   "id": "3b595d8c-239d-4493-a9f5-ce4d35640c62",
   "metadata": {},
   "outputs": [
    {
     "name": "stdout",
     "output_type": "stream",
     "text": [
      "greatest is = 3\n"
     ]
    }
   ],
   "source": [
    "#4 Write a Python program to determine the largest of three numbers using if-else\n",
    "a, b, c = 1, 12, 3\n",
    "if a > b and a > c:\n",
    "    print(\"The greatest is =\", a)\n",
    "elif b > c and b > a:\n",
    "    print(\"The greatest is =\", b)\n",
    "else:\n",
    "    print(\"The greatest is =\", c)"
   ]
  },
  {
   "cell_type": "code",
   "execution_count": 34,
   "id": "ede18836-2376-466a-a374-c6a50a692e5e",
   "metadata": {},
   "outputs": [
    {
     "name": "stdin",
     "output_type": "stream",
     "text": [
      "Enter a number:  45\n"
     ]
    },
    {
     "name": "stdout",
     "output_type": "stream",
     "text": [
      "The absolute value of 45.0 is 45.0\n"
     ]
    }
   ],
   "source": [
    "#5 Write a Python program that calculates the absolute value of a number using if-else.\n",
    "num = float(input(\"Enter a number: \"))\n",
    "if num >= 0:\n",
    "    abs_value = num\n",
    "else:\n",
    "    abs_value = -num\n",
    "print(f\"The absolute value of {num} is {abs_value}\")"
   ]
  },
  {
   "cell_type": "code",
   "execution_count": 39,
   "id": "c017c7ec-c4bc-4128-a2a9-4a20bd4322ca",
   "metadata": {},
   "outputs": [
    {
     "name": "stdin",
     "output_type": "stream",
     "text": [
      "enter charecter to check is it viwel or not  ?  e\n"
     ]
    },
    {
     "name": "stdout",
     "output_type": "stream",
     "text": [
      "vowel\n"
     ]
    }
   ],
   "source": [
    "#6 Create a Python program that checks if a given character is a vowel or consonant using if-else.\n",
    "string=input(\"enter charecter to check is it viwel or not  ? \")\n",
    "if string in'aeoiuAEOIU':\n",
    "     print(\"vowel\")\n",
    "else:\n",
    "    print(\"not a vowel\")"
   ]
  },
  {
   "cell_type": "code",
   "execution_count": 40,
   "id": "bbe68515-f5a7-4fe0-9982-326ea7f17e35",
   "metadata": {},
   "outputs": [
    {
     "name": "stdout",
     "output_type": "stream",
     "text": [
      "you can vote :\n"
     ]
    }
   ],
   "source": [
    "#7 Write a Python program to determine if a user is eligible to vote based on their age using if-else.\n",
    "age =90\n",
    "if age>=18:\n",
    "    print(\"you can vote :\")\n",
    "else:\n",
    "    print(\"you are not eligible to vote\")"
   ]
  },
  {
   "cell_type": "code",
   "execution_count": 41,
   "id": "0983852a-12c6-4f88-afd5-92a613a38e2c",
   "metadata": {},
   "outputs": [
    {
     "name": "stdin",
     "output_type": "stream",
     "text": [
      "Enter the purchase amount:  6767\n"
     ]
    },
    {
     "name": "stdout",
     "output_type": "stream",
     "text": [
      "Purchase Amount: $6767.00\n",
      "Discount Percentage: 10%\n",
      "Discount Amount: $676.70\n",
      "Total Amount after Discount: $6090.30\n"
     ]
    }
   ],
   "source": [
    "#8 Create a Python program that calculates the discount amount based on the purchase amount using if-else.\n",
    "purchase_amount = float(input(\"Enter the purchase amount: \"))\n",
    "if purchase_amount >= 1000:\n",
    "    discount_percentage = 10\n",
    "else:\n",
    "    discount_percentage = 0\n",
    "discount_amount = (discount_percentage / 100) * purchase_amount\n",
    "print(f\"Purchase Amount: ${purchase_amount:.2f}\")\n",
    "print(f\"Discount Percentage: {discount_percentage}%\")\n",
    "print(f\"Discount Amount: ${discount_amount:.2f}\")\n",
    "print(f\"Total Amount after Discount: ${purchase_amount - discount_amount:.2f}\")"
   ]
  },
  {
   "cell_type": "code",
   "execution_count": 64,
   "id": "1b9c0ce9-d2d9-46f9-a5f3-24c5df176e42",
   "metadata": {},
   "outputs": [
    {
     "name": "stdout",
     "output_type": "stream",
     "text": [
      "Number is within the range 11-20\n"
     ]
    }
   ],
   "source": [
    "#9 Write a Python program to check if a number is within a specified range using if-else.\n",
    "n = 12\n",
    "if 0 <= n <= 10:\n",
    "    print(\"Number is within the range 0-10\")\n",
    "elif 11 <= n <= 20:\n",
    "    print(\"Number is within the range 11-20\")\n",
    "else:\n",
    "    print(\"Number is greater than 20\")"
   ]
  },
  {
   "cell_type": "code",
   "execution_count": 1,
   "id": "a9178dd6-6fae-410c-8c5b-5b514dfe8b75",
   "metadata": {},
   "outputs": [
    {
     "name": "stdin",
     "output_type": "stream",
     "text": [
      "Enter the student's score:  56\n"
     ]
    },
    {
     "name": "stdout",
     "output_type": "stream",
     "text": [
      "The student's grade is: F\n"
     ]
    }
   ],
   "source": [
    "#10 Create a Python program that determines the grade of a student based on their score using if-else\n",
    "score = float(input(\"Enter the student's score: \"))\n",
    "if 90 <= score <= 100:\n",
    "    grade = 'A'\n",
    "elif 80 <= score < 90:\n",
    "    grade = 'B'\n",
    "elif 70 <= score < 80:\n",
    "    grade = 'C'\n",
    "elif 60 <= score < 70:\n",
    "    grade = 'D'\n",
    "elif 0 <= score < 60:\n",
    "    grade = 'F'\n",
    "else:\n",
    "    print(\"Invalid score. Please enter a score between 0 and 100.\")\n",
    "    exit()\n",
    "print(f\"The student's grade is: {grade}\")"
   ]
  },
  {
   "cell_type": "code",
   "execution_count": 10,
   "id": "52ff1982-40bd-4459-89d0-ee5e470b1099",
   "metadata": {},
   "outputs": [
    {
     "name": "stdout",
     "output_type": "stream",
     "text": [
      "string is not empty\n"
     ]
    }
   ],
   "source": [
    "#11 Write a Python program to check if a string is empty or not using if-else.\n",
    "string='fgghiuiu iui '\n",
    "if string=='':\n",
    "    print(\"the string is empty \")\n",
    "else:\n",
    "    print(\"string is not empty\")"
   ]
  },
  {
   "cell_type": "code",
   "execution_count": 12,
   "id": "3bab8379-3c1b-43ed-8ec1-f4b7653a669a",
   "metadata": {},
   "outputs": [
    {
     "name": "stdin",
     "output_type": "stream",
     "text": [
      "Enter the length of side 1:  3\n",
      "Enter the length of side 2:  4\n",
      "Enter the length of side 3:  3\n"
     ]
    },
    {
     "name": "stdout",
     "output_type": "stream",
     "text": [
      "The triangle with sides 3.0, 4.0, 3.0 is a Isosceles triangle.\n"
     ]
    }
   ],
   "source": [
    "#12 Create a Python program that identifies the type of a triangle (e.g., equilateral, isosceles, or scalene) based on input values using if-else.\n",
    "def identify_triangle_type(side1, side2, side3):\n",
    "    if side1 == side2 == side3:\n",
    "        return \"Equilateral\"\n",
    "    elif side1 == side2 or side1 == side3 or side2 == side3:\n",
    "        return \"Isosceles\"\n",
    "    else:\n",
    "        return \"Scalene\"\n",
    "side1 = float(input(\"Enter the length of side 1: \"))\n",
    "side2 = float(input(\"Enter the length of side 2: \"))\n",
    "side3 = float(input(\"Enter the length of side 3: \"))\n",
    "triangle_type = identify_triangle_type(side1, side2, side3)\n",
    "print(f\"The triangle with sides {side1}, {side2}, {side3} is a {triangle_type} triangle.\")"
   ]
  },
  {
   "cell_type": "code",
   "execution_count": 13,
   "id": "9cbff07c-50ab-4b51-865a-41e85ab3e69a",
   "metadata": {},
   "outputs": [
    {
     "name": "stdin",
     "output_type": "stream",
     "text": [
      "Enter a number (1-7) representing the day of the week:  4\n"
     ]
    },
    {
     "name": "stdout",
     "output_type": "stream",
     "text": [
      "The day corresponding to the number 4 is Thursday.\n"
     ]
    }
   ],
   "source": [
    "#13 Write a Python program to determine the day of the week based on a user-provided number using if-else.\n",
    "def determine_day_of_week(day_number):\n",
    "    if day_number == 1:\n",
    "        return \"Monday\"\n",
    "    elif day_number == 2:\n",
    "        return \"Tuesday\"\n",
    "    elif day_number == 3:\n",
    "        return \"Wednesday\"\n",
    "    elif day_number == 4:\n",
    "        return \"Thursday\"\n",
    "    elif day_number == 5:\n",
    "        return \"Friday\"\n",
    "    elif day_number == 6:\n",
    "        return \"Saturday\"\n",
    "    elif day_number == 7:\n",
    "        return \"Sunday\"\n",
    "    else:\n",
    "        return \"Invalid day number. Please enter a number between 1 and 7.\"\n",
    "day_number = int(input(\"Enter a number (1-7) representing the day of the week: \"))\n",
    "day_of_week = determine_day_of_week(day_number)\n",
    "print(f\"The day corresponding to the number {day_number} is {day_of_week}.\")"
   ]
  },
  {
   "cell_type": "code",
   "execution_count": 14,
   "id": "4296962c-6ea8-456f-9295-5c0dd86f96f5",
   "metadata": {},
   "outputs": [
    {
     "name": "stdin",
     "output_type": "stream",
     "text": [
      "Enter a year:  3234\n"
     ]
    },
    {
     "name": "stdout",
     "output_type": "stream",
     "text": [
      "3234 is not a leap year.\n"
     ]
    }
   ],
   "source": [
    "#14 Create a Python program that checks if a given year is a leap year using both if-else and a function.\n",
    "def is_leap_year(year):\n",
    "    if (year % 4 == 0 and year % 100 != 0) or (year % 400 == 0):\n",
    "        return True\n",
    "    else:\n",
    "        return False\n",
    "year = int(input(\"Enter a year: \"))\n",
    "if is_leap_year(year):\n",
    "    print(f\"{year} is a leap year.\")\n",
    "else:\n",
    "    print(f\"{year} is not a leap year.\")"
   ]
  },
  {
   "cell_type": "code",
   "execution_count": null,
   "id": "5441ca49-ebb7-4833-98ce-d0a96825e2d0",
   "metadata": {},
   "outputs": [],
   "source": [
    "#15 How do you use the \"assert\" statement in Python to add debugging checks within if-else blocks?\n",
    "'''In Python, the assert statement is used to check if a given expression is true. If the expression is false, the assert statement raises\n",
    "an AssertionError exception, providing a way to catch and handle potential bugs during development. It's commonly used for debugging and testing.\n",
    "Here's an example of how you can use assert within if-else blocks:-\n",
    "def divide_numbers(a, b):\n",
    "    assert b != 0, \"Division by zero is not allowed\"\n",
    "    result = a / b\n",
    "    if result < 1:\n",
    "        print(\"Result is less than 1\")\n",
    "    else:\n",
    "        print(\"Result is greater than or equal to 1\")\n",
    "numerator = float(input(\"Enter the numerator: \"))\n",
    "denominator = float(input(\"Enter the denominator: \"))\n",
    "divide_numbers(numerator, denominator)"
   ]
  },
  {
   "cell_type": "code",
   "execution_count": null,
   "id": "70845a6e-b056-4c75-9d64-8e241b8f1ee0",
   "metadata": {},
   "outputs": [
    {
     "name": "stdin",
     "output_type": "stream",
     "text": [
      "Enter your age:  78\n"
     ]
    },
    {
     "name": "stdout",
     "output_type": "stream",
     "text": [
      "You are eligible for a senior citizen discount!\n"
     ]
    }
   ],
   "source": [
    "#16 Create a Python program that determines the eligibility of a person for a senior citizen discount based on age using if-else.\n",
    "def check_senior_discount(age):\n",
    "    if age >= 60:\n",
    "        return \"You are eligible for a senior citizen discount!\"\n",
    "    else:\n",
    "        return \"Sorry, you are not eligible for a senior citizen discount.\"\n",
    "age = int(input(\"Enter your age: \"))\n",
    "result = check_senior_discount(age)\n",
    "print(result)"
   ]
  },
  {
   "cell_type": "code",
   "execution_count": 18,
   "id": "d7807937-542e-443a-b7e0-8e231c77d5dd",
   "metadata": {},
   "outputs": [
    {
     "name": "stdin",
     "output_type": "stream",
     "text": [
      "Enter a character:  iikj\n"
     ]
    },
    {
     "name": "stdout",
     "output_type": "stream",
     "text": [
      "The character 'iikj' is Lowercase.\n"
     ]
    }
   ],
   "source": [
    "#17 Write a Python program to categorize a given character as uppercase, lowercase, or neither using if-else.\n",
    "def categorize_character(char):\n",
    "    if char.isupper():\n",
    "        return \"Uppercase\"\n",
    "    elif char.islower():\n",
    "        return \"Lowercase\"\n",
    "    else:\n",
    "        return \"Neither uppercase nor lowercase\"\n",
    "user_input = input(\"Enter a character: \")\n",
    "result = categorize_character(user_input)\n",
    "print(f\"The character '{user_input}' is {result}.\")"
   ]
  },
  {
   "cell_type": "code",
   "execution_count": 19,
   "id": "5065004b-7101-4f0f-9470-43098ae7e718",
   "metadata": {},
   "outputs": [
    {
     "name": "stdin",
     "output_type": "stream",
     "text": [
      "Enter the coefficient of x^2:  5\n",
      "Enter the coefficient of x:  6\n",
      "Enter the constant term:  7\n"
     ]
    },
    {
     "name": "stdout",
     "output_type": "stream",
     "text": [
      "Root 1: (-0.6+1.0198039027185568j)\n",
      "Root 2: (-0.6-1.0198039027185568j)\n"
     ]
    }
   ],
   "source": [
    "#18 Write a Python program to determine the roots of a quadratic equation using if-else.\n",
    "import math\n",
    "def quadratic_roots(a, b, c):\n",
    "    discriminant = b**2 - 4*a*c\n",
    "    if discriminant > 0:\n",
    "        root1 = (-b + math.sqrt(discriminant)) / (2*a)\n",
    "        root2 = (-b - math.sqrt(discriminant)) / (2*a)\n",
    "        print(f\"Root 1: {root1}\")\n",
    "        print(f\"Root 2: {root2}\")\n",
    "    elif discriminant == 0:\n",
    "        root = -b / (2*a)\n",
    "        print(f\"Root: {root}\")\n",
    "    else:\n",
    "        real_part = -b / (2*a)\n",
    "        imaginary_part = math.sqrt(abs(discriminant)) / (2*a)\n",
    "        root1 = complex(real_part, imaginary_part)\n",
    "        root2 = complex(real_part, -imaginary_part)\n",
    "        print(f\"Root 1: {root1}\")\n",
    "        print(f\"Root 2: {root2}\")\n",
    "a = float(input(\"Enter the coefficient of x^2: \"))\n",
    "b = float(input(\"Enter the coefficient of x: \"))\n",
    "c = float(input(\"Enter the constant term: \"))\n",
    "quadratic_roots(a, b, c)"
   ]
  },
  {
   "cell_type": "code",
   "execution_count": 20,
   "id": "e9192a58-520b-4d45-a7e5-1c7ae7d51865",
   "metadata": {},
   "outputs": [
    {
     "name": "stdin",
     "output_type": "stream",
     "text": [
      "Enter a year:  7678\n"
     ]
    },
    {
     "name": "stdout",
     "output_type": "stream",
     "text": [
      "7678 is not a century year.\n"
     ]
    }
   ],
   "source": [
    "#19 Create a Python program that checks if a given year is a century year or not using if-else.\n",
    "def is_century_year(year):\n",
    "    if year % 100 == 0:\n",
    "        return True\n",
    "    else:\n",
    "        return False\n",
    "year = int(input(\"Enter a year: \"))\n",
    "if is_century_year(year):\n",
    "    print(f\"{year} is a century year.\")\n",
    "else:\n",
    "    print(f\"{year} is not a century year.\")"
   ]
  },
  {
   "cell_type": "code",
   "execution_count": 22,
   "id": "557a5e89-9819-44d7-a1f8-deaf3a4e2311",
   "metadata": {},
   "outputs": [
    {
     "name": "stdin",
     "output_type": "stream",
     "text": [
      "Enter a number:  78\n"
     ]
    },
    {
     "name": "stdout",
     "output_type": "stream",
     "text": [
      "78 is not a perfect square.\n"
     ]
    }
   ],
   "source": [
    "#20 Write a Python program to determine if a given number is a perfect square using if-else\n",
    "def is_perfect_square(number):\n",
    "    square_root = int(number**0.5)\n",
    "    if square_root**2 == number:\n",
    "        return True\n",
    "    else:\n",
    "        return False\n",
    "number = int(input(\"Enter a number: \"))\n",
    "if is_perfect_square(number):\n",
    "    print(f\"{number} is a perfect square.\")\n",
    "else:\n",
    "    print(f\"{number} is not a perfect square.\")"
   ]
  },
  {
   "cell_type": "code",
   "execution_count": null,
   "id": "dfd2c1d6-7c29-48af-b733-f314726006d4",
   "metadata": {},
   "outputs": [],
   "source": [
    "#21 Explain the purpose of the \"continue\" and \"break\" statements within if-else loops.\n",
    "continue statement:-\n",
    "The continue statement is used to skip the rest of the code inside a loop for the current iteration and move to the next iteration.\n",
    "When the continue statement is encountered, the loop jumps back to the beginning, skipping any code that follows it in the loop for the current iteration.\n",
    "It is often used when you want to skip a specific iteration based on a certain condition without exiting the entire loop.\n",
    "\n",
    "break statement:-\n",
    "The break statement is used to exit a loop prematurely, even if the loop condition is still true.\n",
    "When the break statement is encountered, the loop is immediately terminated, and the program execution moves to the next statement following the loop.\n",
    "It is often used when you want to exit a loop early based on a certain condition."
   ]
  },
  {
   "cell_type": "code",
   "execution_count": 23,
   "id": "77f77eed-7d73-4709-94d3-696fd994c408",
   "metadata": {},
   "outputs": [
    {
     "name": "stdin",
     "output_type": "stream",
     "text": [
      "Enter your weight in kilograms:  78\n",
      "Enter your height in meters:  5\n"
     ]
    },
    {
     "name": "stdout",
     "output_type": "stream",
     "text": [
      "Your BMI is: 3.12\n",
      "You are classified as: Underweight\n"
     ]
    }
   ],
   "source": [
    "#22 Create a Python program that calculates the BMI (Body Mass Index) of a person based on their weight and height using if-else.\n",
    "def calculate_bmi(weight, height):\n",
    "    bmi = weight / (height**2)\n",
    "    return bmi\n",
    "def classify_bmi(bmi):\n",
    "    if bmi < 18.5:\n",
    "        return \"Underweight\"\n",
    "    elif 18.5 <= bmi < 24.9:\n",
    "        return \"Normal weight\"\n",
    "    elif 25 <= bmi < 29.9:\n",
    "        return \"Overweight\"\n",
    "    else:\n",
    "        return \"Obese\"\n",
    "weight = float(input(\"Enter your weight in kilograms: \"))\n",
    "height = float(input(\"Enter your height in meters: \"))\n",
    "bmi = calculate_bmi(weight, height)\n",
    "classification = classify_bmi(bmi)\n",
    "print(f\"Your BMI is: {bmi:.2f}\")\n",
    "print(f\"You are classified as: {classification}\")"
   ]
  },
  {
   "cell_type": "code",
   "execution_count": 1,
   "id": "7d631e74-0033-4274-92ed-92b4dc1d8d11",
   "metadata": {},
   "outputs": [
    {
     "ename": "SyntaxError",
     "evalue": "unterminated string literal (detected at line 3) (1588303307.py, line 3)",
     "output_type": "error",
     "traceback": [
      "\u001b[0;36m  Cell \u001b[0;32mIn[1], line 3\u001b[0;36m\u001b[0m\n\u001b[0;31m    the function that defines the filtering criteria and the iterable to be filtered.While filter() itself doesn't use\u001b[0m\n\u001b[0m                                                                                                                ^\u001b[0m\n\u001b[0;31mSyntaxError\u001b[0m\u001b[0;31m:\u001b[0m unterminated string literal (detected at line 3)\n"
     ]
    }
   ],
   "source": [
    "#23 How can you use the \"filter()\" function with if-else statements to filter elements from a list?\n",
    "The filter() function is used to filter elements of an iterable (e.g., a list) based on a given function.The filter() function takes two arguments: \n",
    "the function that defines the filtering criteria and the iterable to be filtered.While filter() itself doesn't use\n",
    "if-else statements directly, you can achieve the filtering by providing a function that returns True for the elements you want to keep and False for the elements\n",
    "you want to exclude.\n",
    "example :-\n",
    "def is_even(number):\n",
    "    return number % 2 == 0\n",
    "numbers = [1, 2, 3, 4, 5, 6, 7, 8, 9, 10]\n",
    "filtered_numbers = filter(is_even, numbers)\n",
    "result_list = list(filtered_numbers)\n",
    "print(\"Original list:\", numbers)\n",
    "print(\"Filtered list (even numbers):\", result_list)"
   ]
  },
  {
   "cell_type": "code",
   "execution_count": 3,
   "id": "39d3cc37-4b7a-4a66-a553-6f55ad15ecf2",
   "metadata": {},
   "outputs": [
    {
     "name": "stdin",
     "output_type": "stream",
     "text": [
      "Enter a number:  89\n"
     ]
    },
    {
     "name": "stdout",
     "output_type": "stream",
     "text": [
      "89 is a prime number.\n"
     ]
    }
   ],
   "source": [
    "#24 Write a Python program to determine if a given number is prime or not using if-else.\n",
    "def is_prime(number):\n",
    "    if number < 2:\n",
    "        return False\n",
    "    for i in range(2, int(number**0.5) + 1):\n",
    "        if number % i == 0:\n",
    "            return False \n",
    "    return True  \n",
    "user_input = input(\"Enter a number: \")\n",
    "try:\n",
    "    num = int(user_input)\n",
    "    if is_prime(num):\n",
    "        print(f\"{num} is a prime number.\")\n",
    "    else:\n",
    "        print(f\"{num} is not a prime number.\")\n",
    "except ValueError:\n",
    "    print(\"Please enter a valid integer.\")"
   ]
  },
  {
   "cell_type": "code",
   "execution_count": null,
   "id": "f8a1dcaa-bf5c-4f41-9d36-6929ed62e580",
   "metadata": {},
   "outputs": [],
   "source": [
    "#Map :-\n",
    "#1 Explain the purpose of the `map()` function in Python and provide an example of how it can be used to apply a function toeach element of an iterable.\n",
    "\n",
    "The map() function in Python is a built-in function that applies a specified function to all the items in an iterable (e.g., a list, tuple, or string) \n",
    "and returns an iterator that produces the results. It takes two arguments: the function to apply and theiterable to which the function should be applied.\n",
    "syntax:-\n",
    "map(function, iterable, ...)\n",
    "Here's an example of how map() can be used to apply a function to each element of a list:\n",
    "def square(x):\n",
    "    return x ** 2\n",
    "numbers = [1, 2, 3, 4, 5]\n",
    "squared_numbers = map(square, numbers)\n",
    "result_list = list(squared_numbers)\n",
    "print(result_list)"
   ]
  },
  {
   "cell_type": "code",
   "execution_count": 6,
   "id": "68fbe889-6f94-48e1-94b4-f97596653391",
   "metadata": {},
   "outputs": [
    {
     "name": "stdout",
     "output_type": "stream",
     "text": [
      "[1, 4, 9, 16, 25]\n"
     ]
    }
   ],
   "source": [
    "#2 Write a Python program that uses the `map()` function to square each element of a list of numbers.\n",
    "def square(x):\n",
    "    return x ** 2\n",
    "l = [1, 2, 3, 4, 5]\n",
    "print(list( map(square, l)))"
   ]
  },
  {
   "cell_type": "code",
   "execution_count": 13,
   "id": "6e410f7e-9346-47e3-b83b-63067db14ccf",
   "metadata": {},
   "outputs": [
    {
     "name": "stdout",
     "output_type": "stream",
     "text": [
      "[1, 4, 9, 16, 25]\n"
     ]
    }
   ],
   "source": [
    "#3 How does the `map()` function differ from a list comprehension in Python, and when would you choose one over the other?\n",
    "map:-Syntax: map(function, iterable, ...)\n",
    "Returns: An iterator, so it needs to be converted to a list or another iterable.\n",
    "Usage: It applies the specified function to each item in the iterable, returning the results lazily. This means that the function is applied on-demand,\n",
    "and it doesn't create a new list until requested.\n",
    "list comprehensive:-Syntax: [expression for item in iterable if condition]\n",
    "Returns: A new list.\n",
    "Usage: It creates a new list by evaluating the expression for each item in the iterable. It provides a more concise and readable syntax for creating lists.\n",
    "when would you choose one over the other?:- Readability: List comprehensions are often more concise and considered more Pythonic. They can be easier to read for\n",
    "simple operations on iterable elements.Laziness vs. Eager Evaluation: map() is lazily evaluated, which means it computes \n",
    "each result only when needed. List comprehensions, on the other hand,create a new list immediately. \n",
    "If you are working with a large dataset and want to save memory, map() might be more memory-efficient."
   ]
  },
  {
   "cell_type": "code",
   "execution_count": 16,
   "id": "3ab577de-ee72-40ba-be51-3029bee4b78f",
   "metadata": {},
   "outputs": [
    {
     "name": "stdout",
     "output_type": "stream",
     "text": [
      "['RIZWAN', 'KHAN', 'MOHD']\n"
     ]
    }
   ],
   "source": [
    "#4 Create a Python program that uses the `map()` function to convert a list of names to uppercase\n",
    "l=['rizwan','khan','mohd']\n",
    "upper=lambda a:a.upper()\n",
    "print(list(map(upper,l)))"
   ]
  },
  {
   "cell_type": "code",
   "execution_count": 17,
   "id": "00d225c4-4bb9-4a3f-b2e0-35af1b4a0750",
   "metadata": {},
   "outputs": [
    {
     "name": "stdout",
     "output_type": "stream",
     "text": [
      "[6, 4, 4]\n"
     ]
    }
   ],
   "source": [
    "#5 Write a Python program that uses the `map()` function to calculate the length of each word in a list of strings.\n",
    "l=['rizwan','khan','mohd']\n",
    "length=lambda a:len(a)\n",
    "print(list(map(length,l)))"
   ]
  },
  {
   "cell_type": "code",
   "execution_count": null,
   "id": "864bc44b-9b91-4729-85df-b727e3c8d55d",
   "metadata": {},
   "outputs": [],
   "source": [
    "#6 How can you use the `map()` function to apply a custom function to elements of multiple lists simultaneously in Python?\n",
    "You can use the map() function to apply a custom function to elements of multiple lists simultaneously by \n",
    "passing multiple iterable arguments to the map() function. The custom function should take as many arguments as there are iterable arguments.\n",
    "Here's an example:-\n",
    "def add_elements(x, y):\n",
    "    return x + y\n",
    "list1 = [1, 2, 3, 4]\n",
    "list2 = [5, 6, 7, 8]\n",
    "result = map(add_elements, list1, list2)\n",
    "result_list = list(result)\n",
    "print(result_list)"
   ]
  },
  {
   "cell_type": "code",
   "execution_count": 18,
   "id": "da59f1d8-095d-4a53-a360-2ae869848a45",
   "metadata": {},
   "outputs": [
    {
     "name": "stdout",
     "output_type": "stream",
     "text": [
      "[32.0, 59.0, 77.0, 86.0, 98.6]\n"
     ]
    }
   ],
   "source": [
    "#7 Create a Python program that uses `map()` to convert a list of temperatures from Celsius to Fahrenheit.\n",
    "# Define a custom function to convert Celsius to Fahrenheit\n",
    "def celsius_to_fahrenheit(celsius):\n",
    "    return (celsius * 9/5) + 32\n",
    "temperatures_celsius = [0, 15, 25, 30, 37]\n",
    "temperatures_fahrenheit = map(celsius_to_fahrenheit, temperatures_celsius)\n",
    "result_list = list(temperatures_fahrenheit)\n",
    "print(result_list)"
   ]
  },
  {
   "cell_type": "code",
   "execution_count": 19,
   "id": "c06dceb2-9d77-407d-a7fe-19cfdcca6c44",
   "metadata": {},
   "outputs": [
    {
     "name": "stdout",
     "output_type": "stream",
     "text": [
      "[3, 3, 2, 8, 6]\n"
     ]
    }
   ],
   "source": [
    "#8 Write a Python program that uses the `map()` function to round each element of a list of floating-point numbers to the nearest integer.\n",
    "float_numbers = [3.14, 2.718, 1.5, 7.89, 6.25]\n",
    "rounded_integers = map(round, float_numbers)\n",
    "result_list = list(rounded_integers)\n",
    "print(result_list)"
   ]
  },
  {
   "cell_type": "code",
   "execution_count": 22,
   "id": "eba3f536-01db-4643-8d59-334afdabb182",
   "metadata": {},
   "outputs": [
    {
     "name": "stdout",
     "output_type": "stream",
     "text": [
      "1\n"
     ]
    }
   ],
   "source": [
    "# Reduce :-\n",
    "#1 What is the `reduce()` function in Python, and what module should you import to use it? Provide an example of its basic usage.\n",
    "The reduce() function is part of the functools module in Python. It is used for reducing a sequence of elements to a single value by applying a \n",
    "specified function successively to the elements of the sequence. The functools module needs to be imported to use the reduce() function.\n",
    "example:-\n",
    "from functools import reduce\n",
    "numbers = [1, 2, 3, 4, 5]\n",
    "def add(x, y):\n",
    "    return x + y\n",
    "sum_of_numbers = reduce(add, numbers)\n",
    "print(sum_of_numbers)"
   ]
  },
  {
   "cell_type": "code",
   "execution_count": 26,
   "id": "8c241615-7ce3-45d7-af65-957d1d23fb90",
   "metadata": {},
   "outputs": [
    {
     "name": "stdout",
     "output_type": "stream",
     "text": [
      "15\n"
     ]
    }
   ],
   "source": [
    "#2 Write a Python program that uses the `reduce()` function to find the product of all elements in a list.\n",
    "from functools import reduce\n",
    "l=[1,2,3,4,5]\n",
    "prosuct=lambda a,b:a+b\n",
    "print(reduce(prosuct,l))"
   ]
  },
  {
   "cell_type": "code",
   "execution_count": 32,
   "id": "fe48c5cf-6aec-4a07-aed1-b1987c07f06a",
   "metadata": {},
   "outputs": [
    {
     "name": "stdout",
     "output_type": "stream",
     "text": [
      "45\n"
     ]
    }
   ],
   "source": [
    "#3 Create a Python program that uses `reduce()` to find the maximum element in a list of numbers.\n",
    "l=[1,2,3,45,4,5,6]\n",
    "maxel=lambda a,b: a if a>b else b\n",
    "print(reduce(maxel,l))"
   ]
  },
  {
   "cell_type": "code",
   "execution_count": 40,
   "id": "fe20865a-b011-4c34-8e5e-f2dcdee6fbc9",
   "metadata": {},
   "outputs": [
    {
     "ename": "SyntaxError",
     "evalue": "unterminated string literal (detected at line 3) (4228745478.py, line 3)",
     "output_type": "error",
     "traceback": [
      "\u001b[0;36m  Cell \u001b[0;32mIn[40], line 3\u001b[0;36m\u001b[0m\n\u001b[0;31m    Here's an example:-\u001b[0m\n\u001b[0m        ^\u001b[0m\n\u001b[0;31mSyntaxError\u001b[0m\u001b[0;31m:\u001b[0m unterminated string literal (detected at line 3)\n"
     ]
    }
   ],
   "source": [
    "#4 How can you use the `reduce()` function to concatenate a list of strings into a single string?\n",
    "To concatenate a list of strings into a single string using the reduce() function, you can use a lambda function that concatenates two strings.\n",
    "Here's an example:-\n",
    "from functools import reduce\n",
    "string_list = [\"Hello\", \", \", \"world\", \"!\"]\n",
    "concatenate_strings = lambda x, y: x + y\n",
    "print(reduce(concatenate_strings, string_list))"
   ]
  },
  {
   "cell_type": "code",
   "execution_count": 42,
   "id": "5494613e-db11-4165-a6fe-aac3da1ad6e6",
   "metadata": {},
   "outputs": [
    {
     "name": "stdout",
     "output_type": "stream",
     "text": [
      "120\n"
     ]
    }
   ],
   "source": [
    "#5 Write a Python program that calculates the factorial of a number using the `reduce()` function.\n",
    "from functools import reduce\n",
    "factorial = lambda n: reduce(lambda x, y: x * y, range(1, n+1))\n",
    "print(factorial(5))  "
   ]
  },
  {
   "cell_type": "code",
   "execution_count": 46,
   "id": "1560a4f6-1997-4579-9fa1-8e6325e84549",
   "metadata": {},
   "outputs": [
    {
     "name": "stdout",
     "output_type": "stream",
     "text": [
      "The GCD of the numbers [12, 18, 24, 36] is: 6\n"
     ]
    }
   ],
   "source": [
    "#6 Create a Python program that uses `reduce()` to find the GCD (Greatest Common Divisor) of a list of numbers.\n",
    "from functools import reduce\n",
    "import cmath\n",
    "def find_gcd(x, y):\n",
    "    return math.gcd(x, y)\n",
    "numbers = [12, 18, 24, 36]\n",
    "gcd_result = reduce(find_gcd, numbers)\n",
    "print(f\"The GCD of the numbers {numbers} is: {gcd_result}\")"
   ]
  },
  {
   "cell_type": "code",
   "execution_count": 49,
   "id": "65701e4c-b71c-4c80-8733-0bb3285eceea",
   "metadata": {},
   "outputs": [
    {
     "name": "stdout",
     "output_type": "stream",
     "text": [
      "15\n"
     ]
    }
   ],
   "source": [
    "#7 Write a Python program that uses the `reduce()` function to find the sum of the digits of a given number.\n",
    "sumd=lambda a,b:a+b\n",
    "l=[1,2,3,4,5]\n",
    "print(reduce(sumd,l))"
   ]
  },
  {
   "cell_type": "code",
   "execution_count": null,
   "id": "6ec02489-8d79-48a3-aca8-9315d47fc0e3",
   "metadata": {},
   "outputs": [],
   "source": [
    "# Filter :-\n",
    "#1 Explain the purpose of the `filter()` function in Python and provide an example of how it can be used to filter elements from an iterable.\n",
    "The filter() function in Python is a built-in function used for filtering elements from an iterable (e.g., a list, tuple, or string) based on a specified \n",
    "condition. It takes two arguments: a function that defines the filtering condition,and an iterable from which elements are to be filtered.\n",
    "syntax:-filter(function, iterable)\n",
    "example:-\n",
    "numbers = [1, 2, 3, 4, 5, 6, 7, 8, 9, 10]\n",
    "def is_even(x):\n",
    "    return x % 2 == 0\n",
    "even_numbers = filter(is_even, numbers)\n",
    "result_list = list(even_numbers)\n",
    "print(result_list)"
   ]
  },
  {
   "cell_type": "code",
   "execution_count": 54,
   "id": "4b9763e1-3a26-4fdb-b99e-08ea4c348a84",
   "metadata": {},
   "outputs": [
    {
     "name": "stdout",
     "output_type": "stream",
     "text": [
      "[2, 4]\n"
     ]
    }
   ],
   "source": [
    "#2 Write a Python program that uses the `filter()` function to select even numbers from a list of integers.\n",
    "even=lambda a: a%2==0\n",
    "l=[1,2,3,4,5]\n",
    "print(list(filter(even,l)))"
   ]
  },
  {
   "cell_type": "code",
   "execution_count": 58,
   "id": "ff606930-4b6e-4e39-8764-f429a749b9c7",
   "metadata": {},
   "outputs": [
    {
     "name": "stdout",
     "output_type": "stream",
     "text": [
      "['David']\n"
     ]
    }
   ],
   "source": [
    "#3 Create a Python program that uses the `filter()` function to select names that start with a specific letter from a list of strings.\n",
    "# List of names\n",
    "names = [\"Alice\", \"Bob\", \"Charlie\", \"David\", \"Eva\", \"Frank\"]\n",
    "filter_letter = lambda x: x.startswith('D')\n",
    "print(list(filter(filter_letter, names)))"
   ]
  },
  {
   "cell_type": "code",
   "execution_count": 60,
   "id": "e01eea43-0c40-4426-83ec-8653f7967df9",
   "metadata": {},
   "outputs": [
    {
     "name": "stdout",
     "output_type": "stream",
     "text": [
      "[2, 3, 5, 7]\n"
     ]
    }
   ],
   "source": [
    "#4 Write a Python program that uses the `filter()` function to select prime numbers from a list of integers.\n",
    "def is_prime(num):\n",
    "    if num < 2:\n",
    "        return False\n",
    "    for i in range(2, int(num**0.5) + 1):\n",
    "        if num % i == 0:\n",
    "            return False\n",
    "    return True\n",
    "numbers = [1, 2, 3, 4, 5, 6, 7, 8, 9, 10]\n",
    "print(list(filter(is_prime, numbers)))"
   ]
  },
  {
   "cell_type": "code",
   "execution_count": 66,
   "id": "1492d3bf-b0b5-47b9-9072-0f44bd54a325",
   "metadata": {},
   "outputs": [
    {
     "name": "stdout",
     "output_type": "stream",
     "text": [
      "[1, 3, 5, 6, 8]\n"
     ]
    }
   ],
   "source": [
    "#5 How can you use the `filter()` function to remove None values from a list in Python?\n",
    "#To remove None values from a list in Python using the filter() function, you can define a lambda function that filters out None and then apply it to the list. \n",
    "#example:-\n",
    "mixed_list = [1, None, 3, None, 5, 6, None, 8, None]\n",
    "filtered_list = filter(lambda x: x is not None, mixed_list) #The lambda function lambda x: x is not None checks whether each element is not equal to None.\n",
    "print(list(filtered_list))"
   ]
  },
  {
   "cell_type": "code",
   "execution_count": 70,
   "id": "b53fe6b3-4456-4adb-a05c-32a4bdb26559",
   "metadata": {},
   "outputs": [
    {
     "name": "stdout",
     "output_type": "stream",
     "text": [
      "['rizwan', 'lambda', 'alphabares']\n"
     ]
    }
   ],
   "source": [
    "#6 Create a Python program that uses `filter()` to select words longer than a certain length from a list of strings.\n",
    "l = ['rizwan', 'khan', 'lambda', 'alphabares']\n",
    "min_length = 5\n",
    "filter_by_length = lambda x: len(x) > min_length\n",
    "print(list(filter(filter_by_length, l)))"
   ]
  },
  {
   "cell_type": "code",
   "execution_count": 72,
   "id": "994c4ce0-fba2-4958-bca9-10ea3d2897a0",
   "metadata": {},
   "outputs": [
    {
     "name": "stdout",
     "output_type": "stream",
     "text": [
      "[45, 6, 7]\n"
     ]
    }
   ],
   "source": [
    "#7 Write a Python program that uses the `filter()` function to select elements greater than a specified threshold from a list of values.\n",
    "l=[1,2,3,4,45,6,7]\n",
    "minelment = 5\n",
    "maxelement = lambda x: x >minelment\n",
    "print(list(filter(maxelement, l)))"
   ]
  },
  {
   "cell_type": "code",
   "execution_count": null,
   "id": "85c1f900-c5d1-4bc9-afba-dea510ab2d99",
   "metadata": {},
   "outputs": [],
   "source": [
    "# Recursion:-\n",
    "\n",
    "#1 Explain the concept of recursion in Python. How does it differ from iteration?\n",
    "Recursion is a programming technique where a function calls itself in its own definition.In Python, a recursive function is a functionthat calls itself to solve a smaller\n",
    "instance of the same problem.Recursion typically involves breaking down a problem into smaller subproblems and solving each subproblem by applying the same approach.\n",
    "A recursive function consists of a base case (or termination condition) and arecursive case. The base case is the condition under which the function stops\n",
    "calling itself and returns a result directly.Recursion can lead to elegant and concise code, especially for problems that exhibit a recursive structure.\n",
    "\n",
    "difference :-Recursion is often more expressive and can lead to more elegant solutions for certain problems, especially those with a recursive nature (e.g., tree traversal, \n",
    "fractals).Iteration is typically more efficient in terms of memory usage and execution time for many problems, as it avoids the overhead of function calls and stack frames\n",
    "associated with recursion.Recursion can lead to stack overflow errors if not handled properly, as each recursive call adds a new frame to the call stack.\n",
    "Iteration is generally more straightforward for problems that can be easily solved using loops without the need for a recursive structure."
   ]
  },
  {
   "cell_type": "code",
   "execution_count": 1,
   "id": "1821132b-642c-4cc4-8f9a-50899a6447ed",
   "metadata": {},
   "outputs": [
    {
     "name": "stdout",
     "output_type": "stream",
     "text": [
      "Factorial is : 120\n"
     ]
    }
   ],
   "source": [
    "#2.Write a Python program to calculate the factorial of a number using recursion.\n",
    "def fect(n):\n",
    "    if n<=1:\n",
    "        return 1\n",
    "    else:\n",
    "        return n*fect(n-1)\n",
    "print(f\"Factorial is : {fect(5)}\")"
   ]
  },
  {
   "cell_type": "code",
   "execution_count": 2,
   "id": "dfdffda6-03c1-4dbf-a4c4-29b6a42c7198",
   "metadata": {},
   "outputs": [
    {
     "name": "stdout",
     "output_type": "stream",
     "text": [
      "The 7th Fibonacci number is: 21\n"
     ]
    }
   ],
   "source": [
    "#3.Create a recursive Python function to find the nth Fibonacci number.\n",
    "def fibonacci(n):\n",
    "    if n <= 1:\n",
    "        return 1\n",
    "    else:\n",
    "        return fibonacci(n - 1) + fibonacci(n - 2)\n",
    "n = 7\n",
    "result = fibonacci(n)\n",
    "if result is not None:\n",
    "    print(f\"The {n}th Fibonacci number is: {result}\")"
   ]
  },
  {
   "cell_type": "code",
   "execution_count": 3,
   "id": "9be72e9c-b60c-44a5-adb6-f89a5131b508",
   "metadata": {},
   "outputs": [
    {
     "name": "stdout",
     "output_type": "stream",
     "text": [
      "The sum of the elements in the list is: 15\n"
     ]
    }
   ],
   "source": [
    "#4.Write a recursive Python function to calculate the sum of all elements in a list\n",
    "def recursive_list_sum(lst):\n",
    "    if not lst:\n",
    "        return 0\n",
    "    else:\n",
    "        return lst[0] + recursive_list_sum(lst[1:])\n",
    "my_list = [1, 2, 3, 4, 5]\n",
    "result = recursive_list_sum(my_list)\n",
    "print(f\"The sum of the elements in the list is: {result}\")"
   ]
  },
  {
   "cell_type": "code",
   "execution_count": null,
   "id": "1ff1d72c-9c05-4cdd-860e-bf8acd5b8bed",
   "metadata": {},
   "outputs": [],
   "source": [
    "#5.How can you prevent a recursive function from running indefinitely, causing a stack overflow error?\n",
    "To prevent a recursive function from running indefinitely and causing a stack overflow error, you should ensure that the recursive calls eventually reach a base case.\n",
    "The base case is a condition under which the function stops calling itself and returns a result directly, breaking the recursion."
   ]
  },
  {
   "cell_type": "code",
   "execution_count": 4,
   "id": "4e80741c-c0ac-4427-a3db-dd6877beb294",
   "metadata": {},
   "outputs": [
    {
     "name": "stdout",
     "output_type": "stream",
     "text": [
      "The GCD of 48 and 18 is: 6\n"
     ]
    }
   ],
   "source": [
    "#6.Create a recursive Python function to find the greatest common divisor (GCD) of two numbers using the Euclidean algorithm.\n",
    "def gcd_euclidean(a, b):\n",
    "    if b == 0:\n",
    "        return a\n",
    "    else:\n",
    "        return gcd_euclidean(b, a % b)\n",
    "num1 = 48\n",
    "num2 = 18\n",
    "result = gcd_euclidean(num1, num2)\n",
    "print(f\"The GCD of {num1} and {num2} is: {result}\")"
   ]
  },
  {
   "cell_type": "code",
   "execution_count": 9,
   "id": "1e033d2b-752b-47a2-80f6-14019b1e865c",
   "metadata": {},
   "outputs": [
    {
     "name": "stdout",
     "output_type": "stream",
     "text": [
      "Reversed String: nawzir\n"
     ]
    }
   ],
   "source": [
    "#7.Write a recursive Python function to reverse a string.\n",
    "def reverse_string(s):\n",
    "    if len(s) <= 1:\n",
    "        return s\n",
    "    else:\n",
    "        return s[-1] + reverse_string(s[1:-1]) + s[0]\n",
    "print(f\"Reversed String: {reverse_string('rizwan')}\")"
   ]
  },
  {
   "cell_type": "code",
   "execution_count": 10,
   "id": "0c5a62c8-d9d1-4ef1-a45a-777fb7dd8739",
   "metadata": {},
   "outputs": [
    {
     "name": "stdout",
     "output_type": "stream",
     "text": [
      "2 raised to the power of 3 is: 8\n"
     ]
    }
   ],
   "source": [
    "#8.Create a recursive Python function to calculate the power of a number (x^n).\n",
    "def power(x, n):\n",
    "    if n == 0:\n",
    "        return 1\n",
    "    else:\n",
    "        return x * power(x, n - 1)\n",
    "base = 2\n",
    "exponent = 3\n",
    "result = power(base, exponent)\n",
    "print(f\"{base} raised to the power of {exponent} is: {result}\")"
   ]
  },
  {
   "cell_type": "code",
   "execution_count": 12,
   "id": "2e2a1181-7181-4ddd-9dc2-e8e026e83816",
   "metadata": {},
   "outputs": [
    {
     "name": "stdout",
     "output_type": "stream",
     "text": [
      "All permutations of 'abc': ['abc', 'acb', 'bac', 'bca', 'cab', 'cba']\n"
     ]
    }
   ],
   "source": [
    "#9.Write a recursive Python function to find all permutations of a given string\n",
    "def permutations(string):\n",
    "    if len(string) <= 1:\n",
    "        return [string]\n",
    "    return [char + perm for i, char in enumerate(string) for perm in permutations(string[:i] + string[i+1:])]\n",
    "print(f\"All permutations of '{'abc'}': {result}\")"
   ]
  },
  {
   "cell_type": "code",
   "execution_count": 19,
   "id": "0ddc4fe2-3500-422d-8ec4-ccb79f5a3b85",
   "metadata": {},
   "outputs": [
    {
     "name": "stdout",
     "output_type": "stream",
     "text": [
      "Is 'madam' a palindrome? True\n"
     ]
    }
   ],
   "source": [
    "#10.Write a recursive Python function to check if a string is a palindrome.\n",
    "def is_palindrome(s):\n",
    "    if len(s) <= 1:\n",
    "        return True\n",
    "    return s[0] == s[-1] and is_palindrome(s[1:-1])\n",
    "print(f\"Is '{'madam'}' a palindrome? {is_palindrome('madam')}\")"
   ]
  },
  {
   "cell_type": "code",
   "execution_count": 20,
   "id": "18b1dd7d-a370-4dcb-b4bc-173fcb9a3523",
   "metadata": {},
   "outputs": [
    {
     "name": "stdout",
     "output_type": "stream",
     "text": [
      "All combinations of [1, 2, 3]: [[1, 2, 3], [1, 2], [1, 3], [1], [2, 3], [2], [3], []]\n"
     ]
    }
   ],
   "source": [
    "#11.Create a recursive Python function to generate all possible combinations of a list of elements.\n",
    "def generate_combinations(elements):\n",
    "    if not elements:\n",
    "        return [[]]  \n",
    "    first_element = elements[0]\n",
    "    rest_of_elements = elements[1:]\n",
    "    combinations_with_first = [[first_element] + combo for combo in generate_combinations(rest_of_elements)]\n",
    "    combinations_without_first = generate_combinations(rest_of_elements)\n",
    "    return combinations_with_first + combinations_without_first\n",
    "my_list = [1, 2, 3]\n",
    "result = generate_combinations(my_list)\n",
    "print(f\"All combinations of {my_list}: {result}\")"
   ]
  },
  {
   "cell_type": "code",
   "execution_count": null,
   "id": "0faddb27-8f6a-4e34-8abb-133ecaddd2fa",
   "metadata": {},
   "outputs": [],
   "source": [
    "# Basics of Functions:-\n",
    "#1.What is a function in Python, and why is it used?\n",
    "In Python, a function is a block of reusable code designed to perform a specific task or a set of tasks. Functions helping organizing code into modular and manage able\n",
    "pieces, promoting code reusability and maintainability. Functions play a crucial role in structuring Python programsand making them more readable, scalable, and efficient."
   ]
  },
  {
   "cell_type": "code",
   "execution_count": null,
   "id": "d369593f-da72-46b1-b72e-89321fadff48",
   "metadata": {},
   "outputs": [],
   "source": [
    "#2.How do you define a function in Python? Provide an example.\n",
    "In Python, you can define a function using the def keyword, followed by the function name, parameters (if any), and a colon. The function body contains \n",
    "the code to be executed when the function is called.Here's the basic syntax:-\n",
    "def function_name(parameter1, parameter2, ...):\n",
    "    # Function body\n",
    "    # Code to be executed\n",
    "    return result  # Optional: Return statement\n",
    "example:-\n",
    "def add_numbers(a, b):\n",
    "    result = a + b\n",
    "    return result\n",
    "sum_result = add_numbers(3, 5)\n",
    "print(f\"The sum is: {sum_result}\")"
   ]
  },
  {
   "cell_type": "code",
   "execution_count": null,
   "id": "1a5bdbc4-bf72-4edb-ac04-d89b96a408ed",
   "metadata": {},
   "outputs": [],
   "source": [
    "#3.Explain the difference between a function definition and a function call.\n",
    "A function definition is the specification or declaration of a function. It defines the structure, name, parameters, and behavior of the function.It is created \n",
    "using the def keyword, followed by the function name, parameter list (if any), a colon, and the function body.The function definition does not execute the code within \n",
    "the function; it merely defines what the function will do when called.\n",
    "Function Call:\n",
    "A function call is the actual execution or invocation of a function. It triggers the code within the function to run and can provide specific values (arguments) for\n",
    "the function parameters.Function calls are made using the function name followed by parentheses, and any required arguments are placed inside the parentheses."
   ]
  },
  {
   "cell_type": "code",
   "execution_count": 21,
   "id": "943bfe55-c637-4985-b3de-43d666dadf92",
   "metadata": {},
   "outputs": [
    {
     "name": "stdin",
     "output_type": "stream",
     "text": [
      "Enter the first number:  7\n",
      "Enter the second number:  0\n"
     ]
    },
    {
     "name": "stdout",
     "output_type": "stream",
     "text": [
      "The sum of 7.0 and 0.0 is: 7.0\n"
     ]
    }
   ],
   "source": [
    "#4.Write a Python program that defines a function to calculate the sum of two numbers and then calls the function.\n",
    "def calculate_sum(a, b):\n",
    "    result = a + b\n",
    "    return result\n",
    "num1 = float(input(\"Enter the first number: \"))\n",
    "num2 = float(input(\"Enter the second number: \"))\n",
    "sum_result = calculate_sum(num1, num2)\n",
    "print(f\"The sum of {num1} and {num2} is: {sum_result}\")"
   ]
  },
  {
   "cell_type": "code",
   "execution_count": null,
   "id": "a8a246fa-0054-4fad-93c9-77a364411ed9",
   "metadata": {},
   "outputs": [],
   "source": [
    "#5.What is a function signature, and what information does it typically include?\n",
    "Function Name:-\n",
    "The name of the function, which uniquely identifies it within the code. It is the entry point to call the function.\n",
    "Return Type:\n",
    "\n",
    "The data type of the value that the function returns. If a function doesn't return any value, the return type is often specified as void or left unspecified.\n",
    "Parameters/Arguments:\n",
    "\n",
    "The list of input values that the function accepts. Each parameter is accompanied by its data type."
   ]
  },
  {
   "cell_type": "code",
   "execution_count": 1,
   "id": "9f3d600d-cc48-479a-82b6-e173291c36cd",
   "metadata": {},
   "outputs": [
    {
     "name": "stdout",
     "output_type": "stream",
     "text": [
      "408\n"
     ]
    }
   ],
   "source": [
    "#6.Create a Python function that takes two arguments and returns their product.\n",
    "def pro(z,x):\n",
    "    return z*x;\n",
    "print(pro(12,34))"
   ]
  },
  {
   "cell_type": "code",
   "execution_count": null,
   "id": "d0d1aca5-433c-475b-8b40-8b70652314da",
   "metadata": {},
   "outputs": [],
   "source": [
    "#Function Parameters and Arguments:-\n",
    "#1.Explain the concepts of formal parameters and actual arguments in Python functions.\n",
    "Formal Parameters:-\n",
    "Formal parameters are the placeholders for the values that a function will receive when it is called.They are specified in the function definition and \n",
    "act as variables within the function.These parameters serve as the input to the function and are defined inside the parentheses following the function\n",
    "name.Formal parameters are like variables that represent the data the function will operate on.\n",
    "Actual Arguments:-\n",
    "Actual arguments are the values or expressions that are passed to a function when it is called.They correspond to the formal parameters in the function \n",
    "definition.Actual arguments are specified inside the parentheses during the function invocation and provide the actual data that the function will work with.\n",
    "There are different types of actual arguments: positional arguments, keyword arguments, default arguments, and variable-length arguments."
   ]
  },
  {
   "cell_type": "code",
   "execution_count": 3,
   "id": "528b3e54-292b-41cb-8950-8ed5104633a1",
   "metadata": {},
   "outputs": [
    {
     "name": "stdout",
     "output_type": "stream",
     "text": [
      "18\n",
      "4\n"
     ]
    }
   ],
   "source": [
    "#2.Write a Python program that defines a function with default argument values.\n",
    "def suml(z,x=8,c=9):\n",
    "    return z+x+c\n",
    "print(suml(1))\n",
    "print(suml(1,1,2))"
   ]
  },
  {
   "cell_type": "code",
   "execution_count": 4,
   "id": "ebbb1599-bba2-4f1f-94b5-7a3f5cd960b8",
   "metadata": {},
   "outputs": [
    {
     "name": "stdout",
     "output_type": "stream",
     "text": [
      "Hello, Alice.\n",
      "Hi, Bob.\n",
      "Hello, Charlie!\n",
      "Hey, Dave!!!\n"
     ]
    }
   ],
   "source": [
    "#3.How do you use keyword arguments in Python function calls? Provide an example.\n",
    "In Python, keyword arguments allow you to pass values to a function by explicitly specifying the parameter names along with their corresponding values.\n",
    "This can make function calls more readable and provide flexibility in the order of arguments. \n",
    "def greet(name, greeting=\"Hello\", punctuation=\".\"):\n",
    "    full_greeting = f\"{greeting}, {name}{punctuation}\"\n",
    "    return full_greeting\n",
    "result1 = greet(\"Alice\") \n",
    "result2 = greet(\"Bob\", greeting=\"Hi\")  \n",
    "result3 = greet(\"Charlie\", punctuation=\"!\") \n",
    "result4 = greet(name=\"Dave\", greeting=\"Hey\", punctuation=\"!!!\")  \n",
    "print(result1)  \n",
    "print(result2)  \n",
    "print(result3) \n",
    "print(result4)  "
   ]
  },
  {
   "cell_type": "code",
   "execution_count": 5,
   "id": "fd6e69af-89d7-43c9-8769-89e7bae48473",
   "metadata": {},
   "outputs": [
    {
     "name": "stdout",
     "output_type": "stream",
     "text": [
      "15\n",
      "60\n",
      "16.0\n"
     ]
    }
   ],
   "source": [
    "#4.Create a Python function that accepts a variable number of arguments and calculates their sum.\n",
    "def calculate_sum(*args):\n",
    "    total = sum(args)\n",
    "    return total\n",
    "result1 = calculate_sum(1, 2, 3, 4, 5)\n",
    "result2 = calculate_sum(10, 20, 30)\n",
    "result3 = calculate_sum(2.5, 7.5, 1.5, 4.5)\n",
    "print(result1)  \n",
    "print(result2)  \n",
    "print(result3)  "
   ]
  },
  {
   "cell_type": "code",
   "execution_count": null,
   "id": "9c4a02b5-04c2-403f-91bd-98989a4a8284",
   "metadata": {},
   "outputs": [],
   "source": [
    "#5.What is the purpose of the `*args` and `**kwargs` syntax in function parameter lists?\n",
    "*args (Arbitrary Positional Arguments):-\n",
    "The *args syntax allows a function to accept any number of positional arguments.It collects these arguments into a tuple, making them accessible within the \n",
    "function as a single variable.This is useful when you want to create functions that can take a variable number of input values.\n",
    "syntax:-\n",
    "def sum_values(*args):\n",
    "    return sum(args)\n",
    "result = sum_values(1, 2, 3, 4, 5)\n",
    "print(result)  \n",
    "**kwargs (Arbitrary Keyword Arguments):-\n",
    "The **kwargs syntax allows a function to accept any number of keyword arguments.It collects these arguments into a dictionary, where the keys are the \n",
    "parameter names and the values are the corresponding argument values.This is useful when you want to create functions with optional or variable named parameters.\n",
    "syntax:-\n",
    "def print_info(**kwargs):\n",
    "    for key, value in kwargs.items():\n",
    "        print(f\"{key}: {value}\")\n",
    "print_info(name=\"Alice\", age=25, city=\"Wonderland\")"
   ]
  },
  {
   "cell_type": "code",
   "execution_count": null,
   "id": "ceddc230-a79b-4e92-a963-ed784522f4b6",
   "metadata": {},
   "outputs": [],
   "source": [
    "#  Return Values and Scoping:-\n",
    "#"
   ]
  }
 ],
 "metadata": {
  "kernelspec": {
   "display_name": "Python 3 (ipykernel)",
   "language": "python",
   "name": "python3"
  },
  "language_info": {
   "codemirror_mode": {
    "name": "ipython",
    "version": 3
   },
   "file_extension": ".py",
   "mimetype": "text/x-python",
   "name": "python",
   "nbconvert_exporter": "python",
   "pygments_lexer": "ipython3",
   "version": "3.10.8"
  }
 },
 "nbformat": 4,
 "nbformat_minor": 5
}
