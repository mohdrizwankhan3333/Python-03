{
 "cells": [
  {
   "cell_type": "code",
   "execution_count": 5,
   "id": "2ff9d82b-5123-4dfb-a49a-74e87f4a87b9",
   "metadata": {},
   "outputs": [],
   "source": [
    "f=90998\n",
    "if f<=9:\n",
    "    pass"
   ]
  },
  {
   "cell_type": "code",
   "execution_count": 6,
   "id": "ce78e9a6-1555-49b3-9f99-8e38cc8d1f96",
   "metadata": {},
   "outputs": [
    {
     "data": {
      "text/plain": [
       "True"
      ]
     },
     "execution_count": 6,
     "metadata": {},
     "output_type": "execute_result"
    }
   ],
   "source": [
    "f<=8098798"
   ]
  },
  {
   "cell_type": "code",
   "execution_count": null,
   "id": "415d1361-71d2-429a-bbbf-e9c96be695f2",
   "metadata": {},
   "outputs": [],
   "source": []
  }
 ],
 "metadata": {
  "kernelspec": {
   "display_name": "Python 3 (ipykernel)",
   "language": "python",
   "name": "python3"
  },
  "language_info": {
   "codemirror_mode": {
    "name": "ipython",
    "version": 3
   },
   "file_extension": ".py",
   "mimetype": "text/x-python",
   "name": "python",
   "nbconvert_exporter": "python",
   "pygments_lexer": "ipython3",
   "version": "3.10.8"
  }
 },
 "nbformat": 4,
 "nbformat_minor": 5
}
