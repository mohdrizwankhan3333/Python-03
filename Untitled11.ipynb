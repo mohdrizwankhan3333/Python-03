{
 "cells": [
  {
   "cell_type": "raw",
   "id": "156c65bc-8459-4117-9bc8-b9b0ce4793a3",
   "metadata": {},
   "source": [
    "#control flow"
   ]
  },
  {
   "cell_type": "code",
   "execution_count": 26,
   "id": "613904d1-de14-4270-9a02-085758871cf0",
   "metadata": {},
   "outputs": [
    {
     "name": "stdin",
     "output_type": "stream",
     "text": [
      "enter number : -4\n"
     ]
    },
    {
     "name": "stdout",
     "output_type": "stream",
     "text": [
      "this is a negative number\n"
     ]
    }
   ],
   "source": [
    "num=int(input(\"enter number :\"))\n",
    "if (num>0):\n",
    "    print(\"this is a positive number \")\n",
    "else:\n",
    "    print(\"this is a negative number\")"
   ]
  },
  {
   "cell_type": "code",
   "execution_count": 8,
   "id": "5443aaae-2083-4dee-88a7-7ba007a88f37",
   "metadata": {},
   "outputs": [
    {
     "name": "stdin",
     "output_type": "stream",
     "text": [
      "enter age of person : 34\n"
     ]
    },
    {
     "name": "stdout",
     "output_type": "stream",
     "text": [
      "eligible to vote\n"
     ]
    }
   ],
   "source": [
    "age=int(input(\"enter age of person :\"))\n",
    "if age <18:\n",
    "    print(\"not eligible to vote \")\n",
    "else:\n",
    "    print(\"eligible to vote\")"
   ]
  },
  {
   "cell_type": "code",
   "execution_count": 14,
   "id": "686eedbc-f716-4952-a622-75a475edb9ac",
   "metadata": {},
   "outputs": [
    {
     "name": "stdin",
     "output_type": "stream",
     "text": [
      "enter 2 numbers : 45 2\n"
     ]
    },
    {
     "name": "stdout",
     "output_type": "stream",
     "text": [
      "first number is greater\n"
     ]
    }
   ],
   "source": [
    "num1,num2=input(\"enter 2 numbers :\").split()\n",
    "if int(num1)>int(num2):\n",
    "    print(\"first number is greater\")\n",
    "else:\n",
    "    print(\"second number is greater\")"
   ]
  },
  {
   "cell_type": "code",
   "execution_count": 16,
   "id": "572e5369-9a2d-4b35-bafd-1de55c6ba965",
   "metadata": {},
   "outputs": [
    {
     "name": "stdin",
     "output_type": "stream",
     "text": [
      "Enter year:  2024\n"
     ]
    },
    {
     "name": "stdout",
     "output_type": "stream",
     "text": [
      "This is a leap year\n"
     ]
    }
   ],
   "source": [
    "yr = int(input(\"Enter year: \"))\n",
    "if (yr % 4 == 0 and yr % 100 != 0) or (yr % 400 == 0):\n",
    "    print(\"This is a leap year\")\n",
    "else:\n",
    "    print(\"This is not a leap year\")"
   ]
  },
  {
   "cell_type": "code",
   "execution_count": 23,
   "id": "f26205ce-f1a4-4c17-ad66-2cdae44ef2f4",
   "metadata": {},
   "outputs": [
    {
     "name": "stdin",
     "output_type": "stream",
     "text": [
      "enter any alphabate a-z or A-Z to check is it vowel or not :  e\n"
     ]
    },
    {
     "name": "stdout",
     "output_type": "stream",
     "text": [
      "yes it is a vowel \n"
     ]
    }
   ],
   "source": [
    "inp=input(\"enter any alphabate a-z or A-Z to check is it vowel or not : \")\n",
    "if inp in \"aeiouAOIEU\":\n",
    "    print(\"yes it is a vowel \")\n",
    "else:\n",
    "    print(\"no it is not a vowel \")"
   ]
  },
  {
   "cell_type": "code",
   "execution_count": 27,
   "id": "fa32346c-108b-4ba0-ab72-64eec722118f",
   "metadata": {},
   "outputs": [
    {
     "name": "stdin",
     "output_type": "stream",
     "text": [
      "enter number : 45\n"
     ]
    },
    {
     "name": "stdout",
     "output_type": "stream",
     "text": [
      "odd number\n"
     ]
    }
   ],
   "source": [
    "num=int(input(\"enter number :\"))\n",
    "if num%2==0:\n",
    "        print(\"even number \")\n",
    "else:\n",
    "        print(\"odd number\")"
   ]
  },
  {
   "cell_type": "code",
   "execution_count": 38,
   "id": "8d75bd5c-107f-46da-8db3-7a26f1a72548",
   "metadata": {},
   "outputs": [
    {
     "name": "stdin",
     "output_type": "stream",
     "text": [
      "Enter a number:  6777.56677\n"
     ]
    },
    {
     "name": "stdout",
     "output_type": "stream",
     "text": [
      "6777.56677\n"
     ]
    }
   ],
   "source": [
    "number = float(input(\"Enter a number: \"))\n",
    "if (number < 0):\n",
    "            print(-number)\n",
    "else:\n",
    "        print(number)  "
   ]
  },
  {
   "cell_type": "code",
   "execution_count": 45,
   "id": "1182dc78-96b6-4067-a61d-9a2a48683baa",
   "metadata": {},
   "outputs": [
    {
     "name": "stdin",
     "output_type": "stream",
     "text": [
      "enter 3 numbers : 7 6 5\n"
     ]
    },
    {
     "name": "stdout",
     "output_type": "stream",
     "text": [
      "first number is greater\n"
     ]
    }
   ],
   "source": [
    "num1,num2,num3=input(\"enter 3 numbers :\").split()\n",
    "if int(num1)>int(num2) & int(num1)>int(num3):\n",
    "    print(\"first number is greater\")\n",
    "elif int(num2)>int(num1) & int(num2)>int(num3):\n",
    "    print(\"second is greatest \")\n",
    "else:\n",
    "    print(\"third number is greater\")"
   ]
  },
  {
   "cell_type": "code",
   "execution_count": 50,
   "id": "44683090-1450-4c7a-87e2-3a8b19cd8c41",
   "metadata": {},
   "outputs": [
    {
     "name": "stdin",
     "output_type": "stream",
     "text": [
      "enter string : mog\n"
     ]
    },
    {
     "name": "stdout",
     "output_type": "stream",
     "text": [
      "this is not a palindrom string \n"
     ]
    }
   ],
   "source": [
    "strng=input(\"enter string :\")\n",
    "k=strg[::-1]\n",
    "if k==strng:\n",
    "    print(\"this is palindrom string \")\n",
    "else:\n",
    "    print(\"this is not a palindrom string \")"
   ]
  },
  {
   "cell_type": "code",
   "execution_count": 57,
   "id": "6cf4f48b-e9d5-4f1e-a28f-986ad36ed7f3",
   "metadata": {},
   "outputs": [
    {
     "name": "stdin",
     "output_type": "stream",
     "text": [
      "enter marks of student  87\n"
     ]
    },
    {
     "name": "stdout",
     "output_type": "stream",
     "text": [
      "excellent A Grade\n"
     ]
    }
   ],
   "source": [
    "score=int(input(\"enter marks of student \"))\n",
    "if score>=90:\n",
    "    print(\"excellent A++ Grade\")\n",
    "elif score>=80:\n",
    "        print(\"excellent A Grade\")\n",
    "elif score>=70:\n",
    "        print(\"excellent B++ Grade\")\n",
    "elif score>=60:\n",
    "        print(\"excellent B Grade\")\n",
    "else:\n",
    "    print(\"excellent C Grade\")"
   ]
  },
  {
   "cell_type": "code",
   "execution_count": 61,
   "id": "6a85a52f-8250-439d-b83a-80715c08ae46",
   "metadata": {},
   "outputs": [
    {
     "name": "stdin",
     "output_type": "stream",
     "text": [
      "Enter the first number:  3\n",
      "Enter the second number:  4\n",
      "Enter the third number:  5\n"
     ]
    },
    {
     "name": "stdout",
     "output_type": "stream",
     "text": [
      "The largest number among 3.0, 4.0, and 5.0 is: 5.0\n"
     ]
    }
   ],
   "source": [
    "num1 = float(input(\"Enter the first number: \"))\n",
    "num2 = float(input(\"Enter the second number: \"))\n",
    "num3 = float(input(\"Enter the third number: \"))\n",
    "if num1 >= num2:\n",
    "    if num1 >= num3:\n",
    "        largest = num1\n",
    "    else:\n",
    "        largest = num3\n",
    "else:\n",
    "    if num2 >= num3:\n",
    "        largest = num2\n",
    "    else:\n",
    "        largest = num3\n",
    "print(f\"The largest number among {num1}, {num2}, and {num3} is: {largest}\")"
   ]
  },
  {
   "cell_type": "code",
   "execution_count": 7,
   "id": "5c0114cf-f95b-4c4a-882a-e77c8e5e9c8e",
   "metadata": {},
   "outputs": [
    {
     "name": "stdin",
     "output_type": "stream",
     "text": [
      "enter side1 : 4\n",
      "enter side2 : 5\n",
      "enter side3 : 6\n"
     ]
    },
    {
     "name": "stdout",
     "output_type": "stream",
     "text": [
      "The triangle is Scalene.\n"
     ]
    }
   ],
   "source": [
    "side1=int(input(\"enter side1 :\"))\n",
    "side2=int(input(\"enter side2 :\"))\n",
    "side3=int(input(\"enter side3 :\"))\n",
    "if side1 == side2 == side3:\n",
    "        print(\"The triangle is Equilateral.\")\n",
    "else:\n",
    "    if side1 == side2 or side1 == side3 or side2 == side3:\n",
    "            print(\"The triangle is Isosceles.\")\n",
    "    else:\n",
    "            print(\"The triangle is Scalene.\")"
   ]
  },
  {
   "cell_type": "code",
   "execution_count": 11,
   "id": "19e9ea44-7a83-4581-a998-80ff85ccae85",
   "metadata": {},
   "outputs": [
    {
     "name": "stdin",
     "output_type": "stream",
     "text": [
      "Enter year:  2000\n"
     ]
    },
    {
     "name": "stdout",
     "output_type": "stream",
     "text": [
      "This is a leap year\n",
      "2000 is a century year.\n"
     ]
    }
   ],
   "source": [
    "yr = int(input(\"Enter year: \"))\n",
    "if (yr % 4 == 0 and yr % 100 != 0) or (yr % 400 == 0):\n",
    "    print(\"This is a leap year\")\n",
    "else:\n",
    "    print(\"This is not a leap year\")\n",
    "if yr % 100 == 0:\n",
    "        print(f\"{yr} is a century year.\")\n",
    "else:\n",
    "        print(f\"{yr} is not a century year.\")"
   ]
  },
  {
   "cell_type": "code",
   "execution_count": 15,
   "id": "fccd782e-fbb2-4ef1-bcd8-c42965b030a1",
   "metadata": {},
   "outputs": [
    {
     "name": "stdin",
     "output_type": "stream",
     "text": [
      "enter number : -5\n"
     ]
    },
    {
     "name": "stdout",
     "output_type": "stream",
     "text": [
      "this is a negative number\n"
     ]
    }
   ],
   "source": [
    "num=int(input(\"enter number :\"))\n",
    "if (num>0):\n",
    "    print(\"this is a positive number \")\n",
    "elif num==0:\n",
    "    print(\"this is zero \")\n",
    "else:\n",
    "    print(\"this is a negative number\")"
   ]
  },
  {
   "cell_type": "code",
   "execution_count": 19,
   "id": "3de536aa-1b6f-45cc-9bc7-906d4b296de3",
   "metadata": {},
   "outputs": [
    {
     "name": "stdin",
     "output_type": "stream",
     "text": [
      "enter age of person : 17\n"
     ]
    },
    {
     "name": "stdout",
     "output_type": "stream",
     "text": [
      "person is teenager\n"
     ]
    }
   ],
   "source": [
    "age=int(input(\"enter age of person :\"))\n",
    "if age <19 and age>13:\n",
    "    print(\"person is teenager\")\n",
    "else:\n",
    "    print(\"not a teenager\")"
   ]
  },
  {
   "cell_type": "code",
   "execution_count": 28,
   "id": "075ff358-4d0f-4b93-8c7c-7f8a650a61d6",
   "metadata": {},
   "outputs": [
    {
     "name": "stdin",
     "output_type": "stream",
     "text": [
      "enter angle : 98\n"
     ]
    },
    {
     "name": "stdout",
     "output_type": "stream",
     "text": [
      "The angle is obtuse.\n"
     ]
    }
   ],
   "source": [
    "angle=int(input(\"enter angle :\"))\n",
    "if 0 < angle & angle < 90:\n",
    "        print(\"The angle is acute.\")\n",
    "elif angle == 90:\n",
    "        print(\"The angle is a right angle.\")\n",
    "elif 90 < angle < 180:\n",
    "        print(\"The angle is obtuse.\")"
   ]
  },
  {
   "cell_type": "code",
   "execution_count": 3,
   "id": "34596711-433f-4074-884f-d30ecb897f05",
   "metadata": {},
   "outputs": [
    {
     "name": "stdin",
     "output_type": "stream",
     "text": [
      "Enter the coefficient a:  8\n",
      "Enter the coefficient b:  9\n",
      "Enter the coefficient c:  09\n"
     ]
    },
    {
     "name": "stdout",
     "output_type": "stream",
     "text": [
      "The roots are complex: -0.5625 + 0.899218410621135i and -0.5625 - 0.899218410621135i\n"
     ]
    }
   ],
   "source": [
    "a = float(input(\"Enter the coefficient a: \"))\n",
    "b = float(input(\"Enter the coefficient b: \"))\n",
    "c = float(input(\"Enter the coefficient c: \"))\n",
    "discriminant = b**2 - 4*a*c\n",
    "if discriminant > 0:\n",
    "    root1 = (-b + (discriminant**0.5)) / (2*a)\n",
    "    root2 = (-b - (discriminant**0.5)) / (2*a)\n",
    "    print(f\"The roots are real and different: {root1} and {root2}\")\n",
    "elif discriminant == 0:\n",
    "    root = -b / (2*a)\n",
    "    print(f\"The root is real and equal: {root}\")\n",
    "else:\n",
    "    real_part = -b / (2*a)\n",
    "    imaginary_part = (abs(discriminant)**0.5) / (2*a)\n",
    "    print(f\"The roots are complex: {real_part} + {imaginary_part}i and {real_part} - {imaginary_part}i\")"
   ]
  },
  {
   "cell_type": "code",
   "execution_count": 9,
   "id": "96b3dbe6-dcb7-415a-baae-2b756265e294",
   "metadata": {},
   "outputs": [
    {
     "name": "stdin",
     "output_type": "stream",
     "text": [
      "enter number 0 to 7 :  3\n"
     ]
    },
    {
     "name": "stdout",
     "output_type": "stream",
     "text": [
      "wednesday\n"
     ]
    }
   ],
   "source": [
    "day=int(input(\"enter number 0 to 7 : \"))\n",
    "if day==0:\n",
    "    print(\"sanday :\")\n",
    "elif day==1:\n",
    "    print(\"monday\")\n",
    "elif day==2:\n",
    "    print(\"tuesday\")\n",
    "elif day==3:\n",
    "    print(\"wednesday\")\n",
    "elif day==4:\n",
    "    print(\"thusday\")\n",
    "elif day==5:\n",
    "    print(\"friday\")\n",
    "elif day==6:\n",
    "    print(\"saturday\")\n",
    "else:\n",
    "    print(\"invalid input day'number!\")"
   ]
  },
  {
   "cell_type": "code",
   "execution_count": 31,
   "id": "13bf49b7-3efe-4fa0-a465-36974ebdfc4c",
   "metadata": {},
   "outputs": [
    {
     "name": "stdin",
     "output_type": "stream",
     "text": [
      "Enter year:  2023\n"
     ]
    },
    {
     "name": "stdout",
     "output_type": "stream",
     "text": [
      "This is not a leap year\n",
      "2023 is not divisible by 400\n"
     ]
    }
   ],
   "source": [
    "yr = int(input(\"Enter year: \"))\n",
    "if (yr % 4 == 0 and yr % 100 != 0) or (yr % 400 == 0):\n",
    "    print(\"This is a leap year \")\n",
    "    if yr%400==0:\n",
    "        print(f\"yes divisible by {yr2}\")\n",
    "    else:\n",
    "        print(f\"{yr} is not divisible by 400\")\n",
    "else:\n",
    "    print(\"This is not a leap year\")\n",
    "    if yr%400==0:\n",
    "        print(f\"divisible by {yr}\")\n",
    "    else:\n",
    "        print(f\"{yr} is not divisible by 400\")"
   ]
  },
  {
   "cell_type": "code",
   "execution_count": 42,
   "id": "8931614a-b735-485f-9e82-fd7b17cb5343",
   "metadata": {},
   "outputs": [
    {
     "name": "stdin",
     "output_type": "stream",
     "text": [
      "Enter number :  24\n"
     ]
    },
    {
     "name": "stdout",
     "output_type": "stream",
     "text": [
      "24 is not a prime number\n"
     ]
    }
   ],
   "source": [
    "num = int(input(\"Enter number : \"))\n",
    "c=0\n",
    "for i in range(1,num+1):\n",
    "    if num%i==0:\n",
    "        c+=1\n",
    "if c==2:\n",
    "    print(f\"{num} is a prime number\")\n",
    "else:\n",
    "    print(f\"{num} is not a prime number\")"
   ]
  },
  {
   "cell_type": "code",
   "execution_count": 44,
   "id": "c28be2bd-9343-4a80-b64e-c0b80b4d5f79",
   "metadata": {},
   "outputs": [
    {
     "name": "stdin",
     "output_type": "stream",
     "text": [
      "enter marks of student in percentage  334\n"
     ]
    },
    {
     "name": "stdout",
     "output_type": "stream",
     "text": [
      "excellent you_got A++ Grade\n"
     ]
    }
   ],
   "source": [
    "marks=int(input(\"enter marks of student in percentage \"))\n",
    "if marks>=90:\n",
    "    print(\"excellent you_got A++ Grade\")\n",
    "elif marks>=80:\n",
    "        print(\"excellent you_got A Grade\")\n",
    "elif marks>=70:\n",
    "        print(\"excellent you_got B++ Grade\")\n",
    "elif marks>=60:\n",
    "        print(\"excellent you_got B Grade\")\n",
    "else:\n",
    "    print(\"excellent you_got C Grade\")"
   ]
  },
  {
   "cell_type": "code",
   "execution_count": 51,
   "id": "17e02056-6ba4-4782-8875-8716d1e342b4",
   "metadata": {},
   "outputs": [
    {
     "name": "stdin",
     "output_type": "stream",
     "text": [
      "Enter the first angle of the triangle:  45\n",
      "Enter the second angle of the triangle:  45\n",
      "Enter the third angle of the triangle:  90\n"
     ]
    },
    {
     "name": "stdout",
     "output_type": "stream",
     "text": [
      "This is an isosceles triangle.\n"
     ]
    }
   ],
   "source": [
    "angle1 = float(input(\"Enter the first angle of the triangle: \"))\n",
    "angle2 = float(input(\"Enter the second angle of the triangle: \"))\n",
    "angle3 = float(input(\"Enter the third angle of the triangle: \"))\n",
    "if angle1 + angle2 + angle3 == 180:\n",
    "    if angle1 == angle2 == angle3:\n",
    "        print(\"This is an equilateral triangle.\")\n",
    "    elif angle1 == angle2 or angle1 == angle3 or angle2 == angle3:\n",
    "        print(\"This is an isosceles triangle.\")\n",
    "    else:\n",
    "        print(\"This is a scalene triangle.\")\n",
    "else:\n",
    "    print(\"Invalid triangle. The sum of angles should be 180 degrees.\")"
   ]
  },
  {
   "cell_type": "code",
   "execution_count": 55,
   "id": "ca336473-9b8c-4927-bcea-091bc5e1a2cc",
   "metadata": {},
   "outputs": [
    {
     "name": "stdin",
     "output_type": "stream",
     "text": [
      "Enter your weight in kilograms:  676\n",
      "Enter your height in meters:  3\n"
     ]
    },
    {
     "name": "stdout",
     "output_type": "stream",
     "text": [
      "Your BMI is 75.11111111111111, and you are categorized as Obese.\n"
     ]
    }
   ],
   "source": [
    "weight = float(input(\"Enter your weight in kilograms: \"))\n",
    "height = float(input(\"Enter your height in meters: \"))\n",
    "bmi = weight / (height ** 2)\n",
    "if bmi < 18.5:\n",
    "    category = \"Underweight\"\n",
    "elif 18.5 <= bmi < 24.9:\n",
    "    category = \"Normal weight\"\n",
    "elif 25 <= bmi < 29.9:\n",
    "    category = \"Overweight\"\n",
    "else:\n",
    "    category = \"Obese\"\n",
    "print(f\"Your BMI is {bmi} and you are categorized as {category}\")"
   ]
  },
  {
   "cell_type": "code",
   "execution_count": 57,
   "id": "63c1d70f-ffb8-42b8-a3e6-e8386111c6c0",
   "metadata": {},
   "outputs": [
    {
     "name": "stdin",
     "output_type": "stream",
     "text": [
      "enter number : 76\n"
     ]
    },
    {
     "name": "stdout",
     "output_type": "stream",
     "text": [
      "this is a positive number \n"
     ]
    }
   ],
   "source": [
    "num=int(input(\"enter number :\"))\n",
    "if (num>0):\n",
    "    print(\"this is a positive number \")\n",
    "elif num==0:\n",
    "    print(\"number is zero\")     \n",
    "else:\n",
    "    print(\"this is a negative number\")"
   ]
  },
  {
   "cell_type": "code",
   "execution_count": 2,
   "id": "4e05bee5-e584-49ce-996c-c6c372d7ff7b",
   "metadata": {},
   "outputs": [
    {
     "name": "stdin",
     "output_type": "stream",
     "text": [
      "Enter a string:  sghj\n"
     ]
    },
    {
     "name": "stdout",
     "output_type": "stream",
     "text": [
      "String is in lowercase.\n"
     ]
    }
   ],
   "source": [
    "string = input(\"Enter a string: \")\n",
    "for char in string:\n",
    "    if char.islower():\n",
    "        print(\"String is in lowercase.\")\n",
    "        break\n",
    "    elif char.isupper():\n",
    "        print(\"String is in uppercase.\")\n",
    "        break\n",
    "    elif char in \"~!`@#$%^&*()_+}|{\\\";:'?/>.<,\":\n",
    "        print(\"String contains special characters.\")\n",
    "        break\n",
    "else:\n",
    "    print(\"String does not contain any lowercase, uppercase, or special characters.\")\n"
   ]
  },
  {
   "cell_type": "code",
   "execution_count": 3,
   "id": "f127394e-e2d6-4543-93ee-3af9c1eeeda8",
   "metadata": {},
   "outputs": [
    {
     "name": "stdout",
     "output_type": "stream",
     "text": [
      "50\n",
      "190.0\n",
      "540.0\n",
      "1020.0\n"
     ]
    }
   ],
   "source": [
    "def calculate_discounted_price(amount):\n",
    "    if amount <= 0:\n",
    "        return 0\n",
    "    elif amount < 100:\n",
    "        return amount  # No discount\n",
    "    elif amount < 500:\n",
    "        return amount * 0.95  # 5% discount\n",
    "    elif amount < 1000:\n",
    "        return amount * 0.90  # 10% discount\n",
    "    else:\n",
    "        return amount * 0.85  # 15% discount\n",
    "print(calculate_discounted_price(50))   # Output: 50.0\n",
    "print(calculate_discounted_price(200))  # Output: 190.0\n",
    "print(calculate_discounted_price(600))  # Output: 540.0\n",
    "print(calculate_discounted_price(1200)) # Output: 1020.0"
   ]
  },
  {
   "cell_type": "code",
   "execution_count": 4,
   "id": "5a43e75c-69a5-421b-9c6b-f5dcf40fdb37",
   "metadata": {},
   "outputs": [
    {
     "name": "stdin",
     "output_type": "stream",
     "text": [
      "Enter the units consumed:  568\n"
     ]
    },
    {
     "name": "stdout",
     "output_type": "stream",
     "text": [
      "Units Consumed: 568.0 kWh\n",
      "Electricity Bill: $3408.00\n"
     ]
    }
   ],
   "source": [
    "#27. Develop a program to calculate the electricity bill based on different consumption slabs using elif\n",
    "#statements.\n",
    "def calculate_electricity_bill(units_consumed):\n",
    "    if units_consumed <= 50:\n",
    "        cost_per_unit = 2.5\n",
    "    elif units_consumed <= 100:\n",
    "        cost_per_unit = 3.0\n",
    "    elif units_consumed <= 200:\n",
    "        cost_per_unit = 4.0\n",
    "    elif units_consumed <= 300:\n",
    "        cost_per_unit = 5.0\n",
    "    else:\n",
    "        cost_per_unit = 6.0\n",
    "    total_bill = units_consumed * cost_per_unit\n",
    "    return total_bill\n",
    "units_consumed = float(input(\"Enter the units consumed: \"))\n",
    "electricity_bill = calculate_electricity_bill(units_consumed)\n",
    "print(f\"Units Consumed: {units_consumed} kWh\")\n",
    "print(f\"Electricity Bill: ${electricity_bill:.2f}\")"
   ]
  },
  {
   "cell_type": "code",
   "execution_count": 5,
   "id": "382a422f-8135-4746-a4a5-385f10638a3e",
   "metadata": {},
   "outputs": [
    {
     "name": "stdin",
     "output_type": "stream",
     "text": [
      "Enter the first angle:  89\n",
      "Enter the second angle:  99\n",
      "Enter the third angle:  8767\n",
      "Enter the fourth angle:  8765\n",
      "Enter the length of side 1:  876767676\n",
      "Enter the length of side 2:  8\n",
      "Enter the length of side 3:  9\n",
      "Enter the length of side 4:  0\n"
     ]
    },
    {
     "name": "stdout",
     "output_type": "stream",
     "text": [
      "The given quadrilateral is a Invalid Quadrilateral.\n"
     ]
    }
   ],
   "source": [
    "#28. Create a program to determine the type of quadrilateral based on its angles and sides using elif statements.\n",
    "def determine_quadrilateral_type(angle1, angle2, angle3, angle4, side1, side2, side3, side4):\n",
    "    if angle1 + angle2 + angle3 + angle4 == 360:\n",
    "        if side1 == side2 == side3 == side4:\n",
    "            return \"Square\"\n",
    "        elif (angle1 == angle2 == angle3 == angle4 == 90) and (side1 == side3 and side2 == side4):\n",
    "            return \"Rectangle\"\n",
    "        elif (angle1 == angle3 == 180 - angle2) and (angle2 == angle4 == 180 - angle3) and (side1 == side3 and side2 == side4):\n",
    "            return \"Rhombus\"\n",
    "        else:\n",
    "            return \"Quadrilateral\"\n",
    "    else:\n",
    "        return \"Invalid Quadrilateral\"\n",
    "angle1 = int(input(\"Enter the first angle: \"))\n",
    "angle2 = int(input(\"Enter the second angle: \"))\n",
    "angle3 = int(input(\"Enter the third angle: \"))\n",
    "angle4 = int(input(\"Enter the fourth angle: \"))\n",
    "side1 = float(input(\"Enter the length of side 1: \"))\n",
    "side2 = float(input(\"Enter the length of side 2: \"))\n",
    "side3 = float(input(\"Enter the length of side 3: \"))\n",
    "side4 = float(input(\"Enter the length of side 4: \"))\n",
    "quadrilateral_type = determine_quadrilateral_type(angle1, angle2, angle3, angle4, side1, side2, side3, side4)\n",
    "print(f\"The given quadrilateral is a {quadrilateral_type}.\")"
   ]
  },
  {
   "cell_type": "code",
   "execution_count": 6,
   "id": "d0cbbd92-e43a-47dd-a161-2fc068810da9",
   "metadata": {},
   "outputs": [
    {
     "name": "stdout",
     "output_type": "stream",
     "text": [
      "Spring\n"
     ]
    }
   ],
   "source": [
    "#29 Write a Python script to determine the season based on a user-provided month using elif statements.\n",
    "def determine_season(month):\n",
    "    if month in ['December', 'January', 'February']:\n",
    "        return 'Winter'\n",
    "    elif month in ['March', 'April', 'May']:\n",
    "        return 'Spring'\n",
    "    elif month in ['June', 'July', 'August']:\n",
    "        return 'Summer'\n",
    "    elif month in ['September', 'October', 'November']:\n",
    "        return 'Autumn'\n",
    "    else:\n",
    "        return 'Invalid month'\n",
    "print(determine_season('March'))  "
   ]
  },
  {
   "cell_type": "code",
   "execution_count": 1,
   "id": "39dc2194-5150-45a8-8317-ed8a18cb55e1",
   "metadata": {},
   "outputs": [
    {
     "name": "stdin",
     "output_type": "stream",
     "text": [
      "Enter a year:  2024\n",
      "Enter a month:  february\n"
     ]
    },
    {
     "name": "stdout",
     "output_type": "stream",
     "text": [
      "2024 is a leap year.\n",
      "February has 29 days.\n"
     ]
    }
   ],
   "source": [
    "#30. Implement a program to determine the type of a year (leap or common) and month (30 or 31 days) using elif statements.\n",
    "def is_leap_year(year):\n",
    "    if (year % 4 == 0 and year % 100 != 0) or (year % 400 == 0):\n",
    "        return True\n",
    "    else:\n",
    "        return False\n",
    "def days_in_month(month, year):\n",
    "    if month.lower() in [\"january\", \"march\", \"may\", \"july\", \"august\", \"october\", \"december\"]:\n",
    "        return 31\n",
    "    elif month.lower() in [\"april\", \"june\", \"september\", \"november\"]:\n",
    "        return 30\n",
    "    elif month.lower() == \"february\":\n",
    "        return 29 if is_leap_year(year) else 28\n",
    "    else:\n",
    "        return 28\n",
    "user_year = int(input(\"Enter a year: \"))\n",
    "user_month = input(\"Enter a month: \")\n",
    "if is_leap_year(user_year):\n",
    "    print(f\"{user_year} is a leap year.\")\n",
    "else:\n",
    "    print(f\"{user_year} is a common year.\")\n",
    "days = days_in_month(user_month, user_year)\n",
    "if days == -1:\n",
    "    print(\"Please enter a valid month.\")\n",
    "else:\n",
    "    print(f\"{user_month.capitalize()} has {days} days.\")"
   ]
  },
  {
   "cell_type": "code",
   "execution_count": 1,
   "id": "81289d90-0b69-43fd-97fe-b283fbe17044",
   "metadata": {},
   "outputs": [
    {
     "name": "stdin",
     "output_type": "stream",
     "text": [
      "enter number : 5\n"
     ]
    },
    {
     "name": "stdout",
     "output_type": "stream",
     "text": [
      "positive\n"
     ]
    }
   ],
   "source": [
    "# Basic Level:-\n",
    "#1 Write a Python program that checks if a given number is positive, negative, or zero.\n",
    "num=int(input(\"enter number :\"))\n",
    "if num==0:\n",
    "    print(\"zero\")\n",
    "elif num>0:\n",
    "    print(\"positive\")\n",
    "else:\n",
    "    print(\"negative\")"
   ]
  },
  {
   "cell_type": "code",
   "execution_count": 2,
   "id": "db19f72b-cbff-411e-928f-26ca37a5f349",
   "metadata": {},
   "outputs": [
    {
     "name": "stdout",
     "output_type": "stream",
     "text": [
      "eligible to vote \n"
     ]
    }
   ],
   "source": [
    "#2. Create a program to determine if a person is eligible to vote based on their age.\n",
    "age=23\n",
    "if age>=18:\n",
    "    print(\"eligible to vote \")\n",
    "else:\n",
    "    print(\"not eligible to vote \")"
   ]
  },
  {
   "cell_type": "code",
   "execution_count": 4,
   "id": "10baf6ce-ed91-4d47-adbc-fd5428068887",
   "metadata": {},
   "outputs": [
    {
     "name": "stdout",
     "output_type": "stream",
     "text": [
      "max is  91\n"
     ]
    }
   ],
   "source": [
    "#3. Write a program to find the maximum of two given numbers using conditional statements.\n",
    "a=90\n",
    "n=91\n",
    "if a>n:\n",
    "    print(\"max is \",a)\n",
    "else:\n",
    "    print(\"max is \",n)"
   ]
  },
  {
   "cell_type": "code",
   "execution_count": 5,
   "id": "fa0c7601-7586-46d2-b6d3-7319ad8611c4",
   "metadata": {},
   "outputs": [
    {
     "name": "stdin",
     "output_type": "stream",
     "text": [
      "enter marks of student in percentage  45\n"
     ]
    },
    {
     "name": "stdout",
     "output_type": "stream",
     "text": [
      "excellent you_got C Grade\n"
     ]
    }
   ],
   "source": [
    "#4. Develop a program that calculates the grade of a student based on their exam score.\n",
    "marks=int(input(\"enter marks of student in percentage \"))\n",
    "if marks>=90:\n",
    "    print(\"excellent you_got A++ Grade\")\n",
    "elif marks>=80:\n",
    "        print(\"excellent you_got A Grade\")\n",
    "elif marks>=70:\n",
    "        print(\"excellent you_got B++ Grade\")\n",
    "elif marks>=60:\n",
    "        print(\"excellent you_got B Grade\")\n",
    "else:\n",
    "    print(\"excellent you_got C Grade\")"
   ]
  },
  {
   "cell_type": "code",
   "execution_count": 6,
   "id": "257a3f13-f713-481c-9345-0e194bca5205",
   "metadata": {},
   "outputs": [
    {
     "name": "stdin",
     "output_type": "stream",
     "text": [
      "Enter year:  2034\n"
     ]
    },
    {
     "name": "stdout",
     "output_type": "stream",
     "text": [
      "This is not a leap year\n"
     ]
    }
   ],
   "source": [
    "#5. Create a program that checks if a year is a leap year or not.\n",
    "yr = int(input(\"Enter year: \"))\n",
    "if (yr % 4 == 0 and yr % 100 != 0) or (yr % 400 == 0):\n",
    "    print(\"This is a leap year\")\n",
    "else:\n",
    "    print(\"This is not a leap year\")"
   ]
  },
  {
   "cell_type": "code",
   "execution_count": 7,
   "id": "3aa105b9-4f4b-4aab-a62f-de2f98d15b89",
   "metadata": {},
   "outputs": [
    {
     "name": "stdin",
     "output_type": "stream",
     "text": [
      "enter side1 : 2\n",
      "enter side2 : 3\n",
      "enter side3 : 2\n"
     ]
    },
    {
     "name": "stdout",
     "output_type": "stream",
     "text": [
      "The triangle is Isosceles.\n"
     ]
    }
   ],
   "source": [
    "#6. Write a program to classify a triangle based on its sides' lengths.\n",
    "side1=int(input(\"enter side1 :\"))\n",
    "side2=int(input(\"enter side2 :\"))\n",
    "side3=int(input(\"enter side3 :\"))\n",
    "if side1 == side2 == side3:\n",
    "        print(\"The triangle is Equilateral.\")\n",
    "else:\n",
    "    if side1 == side2 or side1 == side3 or side2 == side3:\n",
    "            print(\"The triangle is Isosceles.\")\n",
    "    else:\n",
    "            print(\"The triangle is Scalene.\")"
   ]
  },
  {
   "cell_type": "code",
   "execution_count": 10,
   "id": "16dcba19-b328-4b64-bc73-69e981d28da3",
   "metadata": {},
   "outputs": [
    {
     "name": "stdout",
     "output_type": "stream",
     "text": [
      "largest is  21\n"
     ]
    }
   ],
   "source": [
    "#7. Build a program that determines the largest of three given numbers.\n",
    "a=6\n",
    "b=21\n",
    "c=5\n",
    "if a>b and a>c:\n",
    "    print(\"largest is \",a)\n",
    "elif b>a and b>c:\n",
    "    print(\"largest is \",b)\n",
    "else:\n",
    "    print(\"largest is \",c)"
   ]
  },
  {
   "cell_type": "code",
   "execution_count": 12,
   "id": "f51b54b5-6d8b-4db9-a313-f0b3500ab4f3",
   "metadata": {},
   "outputs": [
    {
     "name": "stdin",
     "output_type": "stream",
     "text": [
      "enter charecter to check is is vowel or not : r\n"
     ]
    },
    {
     "name": "stdout",
     "output_type": "stream",
     "text": [
      "it is not a vowel\n"
     ]
    }
   ],
   "source": [
    "#8. Develop a program that checks whether a character is a vowel or a consonant.\n",
    "charecter=input(\"enter charecter to check is is vowel or not :\")\n",
    "if charecter in 'aoiueAOIEU':\n",
    "    print(\"it is a vowel \")\n",
    "else:\n",
    "    print(\"it is not a vowel\")"
   ]
  },
  {
   "cell_type": "code",
   "execution_count": 13,
   "id": "336c2136-b15c-4e67-968a-d2f7c7659062",
   "metadata": {},
   "outputs": [
    {
     "name": "stdout",
     "output_type": "stream",
     "text": [
      "50\n",
      "190.0\n",
      "540.0\n",
      "1020.0\n"
     ]
    }
   ],
   "source": [
    "#9. Create a program to calculate the total cost of a shopping cart based on discounts.\n",
    "def calculate_discounted_price(amount):\n",
    "    if amount <= 0:\n",
    "        return 0\n",
    "    elif amount < 100:\n",
    "        return amount  # No discount\n",
    "    elif amount < 500:\n",
    "        return amount * 0.95  # 5% discount\n",
    "    elif amount < 1000:\n",
    "        return amount * 0.90  # 10% discount\n",
    "    else:\n",
    "        return amount * 0.85  # 15% discount\n",
    "print(calculate_discounted_price(50))   # Output: 50.0\n",
    "print(calculate_discounted_price(200))  # Output: 190.0\n",
    "print(calculate_discounted_price(600))  # Output: 540.0\n",
    "print(calculate_discounted_price(1200)) # Output: 1020.0"
   ]
  },
  {
   "cell_type": "code",
   "execution_count": 14,
   "id": "8325500e-e370-4262-806e-550b218480b8",
   "metadata": {},
   "outputs": [
    {
     "name": "stdout",
     "output_type": "stream",
     "text": [
      "it is a odd number\n"
     ]
    }
   ],
   "source": [
    "#10. Write a program that checks if a given number is even or odd.\n",
    "num=90\n",
    "if n%2==0:\n",
    "    print(\"it is a even number\")\n",
    "else:\n",
    "    print(\"it is a odd number\")"
   ]
  },
  {
   "cell_type": "code",
   "execution_count": 15,
   "id": "fffd45e7-bd3f-4453-a478-7bbd7be0543b",
   "metadata": {},
   "outputs": [
    {
     "name": "stdin",
     "output_type": "stream",
     "text": [
      "Enter the coefficient of x^2:  6\n",
      "Enter the coefficient of x:  8\n",
      "Enter the constant term:  9\n"
     ]
    },
    {
     "name": "stdout",
     "output_type": "stream",
     "text": [
      "Root 1: (-0.6666666666666666+1.0274023338281626j)\n",
      "Root 2: (-0.6666666666666666-1.0274023338281626j)\n"
     ]
    }
   ],
   "source": [
    "# Intermediate Level:-\n",
    "#11. Write a program that calculates the roots of a quadratic equation\n",
    "import math\n",
    "def quadratic_roots(a, b, c):\n",
    "    discriminant = b**2 - 4*a*c\n",
    "    if discriminant > 0:\n",
    "        root1 = (-b + math.sqrt(discriminant)) / (2*a)\n",
    "        root2 = (-b - math.sqrt(discriminant)) / (2*a)\n",
    "        print(f\"Root 1: {root1}\")\n",
    "        print(f\"Root 2: {root2}\")\n",
    "    elif discriminant == 0:\n",
    "        root = -b / (2*a)\n",
    "        print(f\"Root: {root}\")\n",
    "    else:\n",
    "        real_part = -b / (2*a)\n",
    "        imaginary_part = math.sqrt(abs(discriminant)) / (2*a)\n",
    "        root1 = complex(real_part, imaginary_part)\n",
    "        root2 = complex(real_part, -imaginary_part)\n",
    "        print(f\"Root 1: {root1}\")\n",
    "        print(f\"Root 2: {root2}\")\n",
    "a = float(input(\"Enter the coefficient of x^2: \"))\n",
    "b = float(input(\"Enter the coefficient of x: \"))\n",
    "c = float(input(\"Enter the constant term: \"))\n",
    "quadratic_roots(a, b, c)\n"
   ]
  },
  {
   "cell_type": "code",
   "execution_count": 19,
   "id": "338bbb84-1077-4b9c-b3a3-6db4ba96660b",
   "metadata": {},
   "outputs": [
    {
     "name": "stdout",
     "output_type": "stream",
     "text": [
      "monday\n"
     ]
    }
   ],
   "source": [
    "#12. Create a program that determines the day of the week based on the day number (1-7).\n",
    "day=2\n",
    "if day==1:\n",
    "    print(\"sumday\")\n",
    "elif day==2:\n",
    "    print(\"monday\")\n",
    "elif day==3:\n",
    "    print(\"tuesday\")\n",
    "elif day==4:\n",
    "    print(\"wednesday\")\n",
    "elif day==5:\n",
    "    print(\"thusday\")\n",
    "elif day==6:\n",
    "    print(\"friday\")\n",
    "else:\n",
    "    print(\"saturday\")"
   ]
  },
  {
   "cell_type": "code",
   "execution_count": 22,
   "id": "12d13fa2-ee5b-4f92-8234-b19d6b712393",
   "metadata": {},
   "outputs": [
    {
     "name": "stdout",
     "output_type": "stream",
     "text": [
      "120\n"
     ]
    }
   ],
   "source": [
    "#13. Develop a program that calculates the factorial of a given number using recursion.\n",
    "def fact(n):\n",
    "    if n<1:\n",
    "        return 1\n",
    "    else:\n",
    "        return n*fact(n-1)\n",
    "print(fact(5))"
   ]
  },
  {
   "cell_type": "code",
   "execution_count": 23,
   "id": "a9a8b370-bc0e-467a-b450-6055a4a85960",
   "metadata": {},
   "outputs": [
    {
     "name": "stdout",
     "output_type": "stream",
     "text": [
      "largest is  21\n"
     ]
    }
   ],
   "source": [
    "#14. Write a program to find the largest among three numbers without using the `max()` function.\n",
    "a=6\n",
    "b=21\n",
    "c=5\n",
    "if a>b and a>c:\n",
    "    print(\"largest is \",a)\n",
    "elif b>a and b>c:\n",
    "    print(\"largest is \",b)\n",
    "else:\n",
    "    print(\"largest is \",c)"
   ]
  },
  {
   "cell_type": "code",
   "execution_count": 45,
   "id": "13c151a4-faba-4856-bec6-b9cd3b37949f",
   "metadata": {},
   "outputs": [
    {
     "name": "stdout",
     "output_type": "stream",
     "text": [
      "===== ATM Transaction Menu =====\n",
      "1. Check Balance\n",
      "2. Deposit Money\n",
      "3. Withdraw Money\n",
      "4. Quit\n",
      "===============================\n"
     ]
    },
    {
     "name": "stdin",
     "output_type": "stream",
     "text": [
      "Enter your choice (1-4):  67\n"
     ]
    },
    {
     "name": "stdout",
     "output_type": "stream",
     "text": [
      "Invalid choice. Please enter a valid option (1-4).\n",
      "===== ATM Transaction Menu =====\n",
      "1. Check Balance\n",
      "2. Deposit Money\n",
      "3. Withdraw Money\n",
      "4. Quit\n",
      "===============================\n"
     ]
    },
    {
     "name": "stdin",
     "output_type": "stream",
     "text": [
      "Enter your choice (1-4):  4\n"
     ]
    },
    {
     "name": "stdout",
     "output_type": "stream",
     "text": [
      "Thank you for using the ATM. Goodbye!\n"
     ]
    }
   ],
   "source": [
    "#15. Create a program that simulates a basic ATM transaction menu.\n",
    "def display_menu():\n",
    "    print(\"===== ATM Transaction Menu =====\")\n",
    "    print(\"1. Check Balance\")\n",
    "    print(\"2. Deposit Money\")\n",
    "    print(\"3. Withdraw Money\")\n",
    "    print(\"4. Quit\")\n",
    "    print(\"===============================\")\n",
    "def check_balance(balance):\n",
    "    print(f\"Your current balance is: ${balance}\")\n",
    "def deposit_money(balance):\n",
    "    amount = float(input(\"Enter the amount to deposit: $\"))\n",
    "    balance += amount\n",
    "    print(f\"${amount} has been deposited. Your new balance is: ${balance}\")\n",
    "    return balance\n",
    "def withdraw_money(balance):\n",
    "    amount = float(input(\"Enter the amount to withdraw: $\"))\n",
    "    if amount > balance:\n",
    "        print(\"Insufficient funds. Withdrawal canceled.\")\n",
    "    else:\n",
    "        balance -= amount\n",
    "        print(f\"${amount} has been withdrawn. Your new balance is: ${balance}\")\n",
    "    return balance\n",
    "account_balance = 1000.0\n",
    "while True:\n",
    "    display_menu()\n",
    "    choice = input(\"Enter your choice (1-4): \")\n",
    "    if choice == \"1\":\n",
    "        check_balance(account_balance)\n",
    "    elif choice == \"2\":\n",
    "        account_balance = deposit_money(account_balance)\n",
    "    elif choice == \"3\":\n",
    "        account_balance = withdraw_money(account_balance)\n",
    "    elif choice == \"4\":\n",
    "        print(\"Thank you for using the ATM. Goodbye!\")\n",
    "        break\n",
    "    else:\n",
    "        print(\"Invalid choice. Please enter a valid option (1-4).\")"
   ]
  },
  {
   "cell_type": "code",
   "execution_count": 26,
   "id": "7824e8b8-8446-40f2-a070-3c5ac1ab5c04",
   "metadata": {},
   "outputs": [
    {
     "name": "stdout",
     "output_type": "stream",
     "text": [
      "not a palindrom\n"
     ]
    }
   ],
   "source": [
    "#16. Build a program that checks if a given string is a palindrome or not.\n",
    "s='madam'\n",
    "if s==s[::-1]:\n",
    "    print(\"palindrom\")\n",
    "else:\n",
    "    print(\"not a palindrom\")"
   ]
  },
  {
   "cell_type": "code",
   "execution_count": 35,
   "id": "bbd153d5-9c78-42f7-94b4-6f9e8fee055e",
   "metadata": {},
   "outputs": [
    {
     "name": "stdout",
     "output_type": "stream",
     "text": [
      "The average of a list of numbers, excluding the smallest and largest values, is = 2.6666666666666665\n"
     ]
    }
   ],
   "source": [
    "#17. Write a program that calculates the average of a list of numbers, excluding the smallest and largest values.\n",
    "numbers = [1, 2, 3, 3, 8]\n",
    "numbers.remove(min(numbers))\n",
    "numbers.remove(max(numbers))\n",
    "average = float(sum(numbers)) / len(numbers)\n",
    "print(\"The average of a list of numbers, excluding the smallest and largest values, is =\", average)"
   ]
  },
  {
   "cell_type": "code",
   "execution_count": 36,
   "id": "39875361-7ef4-41f2-a008-c4f634ca1144",
   "metadata": {},
   "outputs": [
    {
     "name": "stdin",
     "output_type": "stream",
     "text": [
      "Enter temperature in Celsius:  44\n"
     ]
    },
    {
     "name": "stdout",
     "output_type": "stream",
     "text": [
      "44.0 degrees Celsius is equal to 111.20 degrees Fahrenheit.\n"
     ]
    }
   ],
   "source": [
    "#18. Develop a program that converts a given temperature from Celsius to Fahrenheit.\n",
    "def celsius_to_fahrenheit(celsius):\n",
    "    fahrenheit = (celsius * 9/5) + 32\n",
    "    return fahrenheit\n",
    "celsius_temperature = float(input(\"Enter temperature in Celsius: \"))\n",
    "fahrenheit_temperature = celsius_to_fahrenheit(celsius_temperature)\n",
    "print(f\"{celsius_temperature} degrees Celsius is equal to {fahrenheit_temperature:.2f} degrees Fahrenheit.\")"
   ]
  },
  {
   "cell_type": "code",
   "execution_count": 41,
   "id": "f63c0e7a-cfd7-4ba4-aeb7-b0fa68e5afbc",
   "metadata": {},
   "outputs": [
    {
     "name": "stdin",
     "output_type": "stream",
     "text": [
      "enter -,*,+ to perform operation : /\n"
     ]
    },
    {
     "name": "stdout",
     "output_type": "stream",
     "text": [
      "division is = 18.0\n"
     ]
    }
   ],
   "source": [
    "#19. Create a program that simulates a basic calculator for addition, subtraction, multiplication, and division.\n",
    "operator=input(\"enter -,*,+ to perform operation :\")\n",
    "a=90\n",
    "b=5\n",
    "if operator== '+':\n",
    "    print(\"addition is =\",a+b)\n",
    "elif operator== '-':\n",
    "    print(\"subtraction is =\",a-b)\n",
    "elif operator== '*':\n",
    "    print(\"multiplication is =\",a*b)\n",
    "elif operator=='/':\n",
    "    print(\"division is =\",a/b)\n",
    "else:\n",
    "    print(\"invalid operator pls enter -,*,+\")"
   ]
  },
  {
   "cell_type": "code",
   "execution_count": 42,
   "id": "ee621a57-c8b5-4933-88fa-090e49f4b9c5",
   "metadata": {},
   "outputs": [
    {
     "name": "stdin",
     "output_type": "stream",
     "text": [
      "Enter the coefficient of x^3:  5\n",
      "Enter the coefficient of x^2:  3\n",
      "Enter the coefficient of x:  4\n",
      "Enter the constant term:  5\n"
     ]
    },
    {
     "name": "stdout",
     "output_type": "stream",
     "text": [
      "Root 1: (-0.5048760344125316+0j)\n",
      "Root 2: (0.10487603441253164+0.26403039080631113j)\n",
      "Root 3: (0.10487603441253164-0.26403039080631113j)\n"
     ]
    }
   ],
   "source": [
    "#20. Write a program that determines the roots of a cubic equation using the Cardano formula.\n",
    "import cmath\n",
    "def cubic_roots(a, b, c, d):\n",
    "    delta0 = c**2 - 3*b*a*d\n",
    "    delta1 = 2*c**3 - 9*b*c*a + 27*a**2*d\n",
    "    C = cmath.sqrt(delta1**2 - 4*delta0**3)\n",
    "    Q = (delta1 + C)/2\n",
    "    R = (delta1 - C)/2\n",
    "    S = Q**(1/3) if Q.real >= 0 else -(-Q)**(1/3)\n",
    "    T = R**(1/3) if R.real >= 0 else -(-R)**(1/3)\n",
    "    root1 = (-1/(3*a)) * (b + S + T)\n",
    "    root2 = (-1/(3*a)) * (b - (1 + 0.5j*3**0.5)*(S + T))\n",
    "    root3 = (-1/(3*a)) * (b - (1 - 0.5j*3**0.5)*(S + T))\n",
    "    return root1, root2, root3\n",
    "a = float(input(\"Enter the coefficient of x^3: \"))\n",
    "b = float(input(\"Enter the coefficient of x^2: \"))\n",
    "c = float(input(\"Enter the coefficient of x: \"))\n",
    "d = float(input(\"Enter the constant term: \"))\n",
    "roots = cubic_roots(a, b, c, d)\n",
    "print(\"Root 1:\", roots[0])\n",
    "print(\"Root 2:\", roots[1])\n",
    "print(\"Root 3:\", roots[2])"
   ]
  },
  {
   "cell_type": "code",
   "execution_count": 5,
   "id": "8abec566-24cb-49bf-9ff5-955ca2075386",
   "metadata": {},
   "outputs": [
    {
     "name": "stdout",
     "output_type": "stream",
     "text": [
      "Tax is 5 percent whhich is : 6250.0\n",
      "Total Salary is : 125000\n",
      "salary after deduction of tax is : 118750.0\n"
     ]
    }
   ],
   "source": [
    "# Advanced Level:-\n",
    "#21. Create a program that calculates the income tax based on the user's income and tax brackets.\n",
    "salary=125000\n",
    "incom_tax=5\n",
    "def claculate_tax(s,t):\n",
    "    return (s*t)/100\n",
    "print(f\"Tax is 5 percent whhich is : {claculate_tax(salary,incom_tax)}\")\n",
    "print(f\"Total Salary is : {salary}\")\n",
    "print(f\"salary after deduction of tax is : {salary- claculate_tax(salary,incom_tax)}\")                                "
   ]
  },
  {
   "cell_type": "code",
   "execution_count": 8,
   "id": "e8f8e205-c977-4b52-97e5-d6166d38fd7c",
   "metadata": {},
   "outputs": [
    {
     "name": "stdout",
     "output_type": "stream",
     "text": [
      "Welcome to Rock-Paper-Scissors Game!\n"
     ]
    },
    {
     "name": "stdin",
     "output_type": "stream",
     "text": [
      "Enter your choice (rock, paper, scissors):  scissor\n"
     ]
    },
    {
     "name": "stdout",
     "output_type": "stream",
     "text": [
      "You chose: scissor\n",
      "Computer chose: paper\n",
      "Computer wins!\n"
     ]
    }
   ],
   "source": [
    "#22. Write a program that simulates a rock-paper-scissors game against the computer.\n",
    "import random\n",
    "def play_game():\n",
    "    choices = ['rock', 'paper', 'scissors']\n",
    "    user_choice = input(\"Enter your choice (rock, paper, scissors): \").lower()\n",
    "    computer_choice = random.choice(choices)\n",
    "    print(f\"You chose: {user_choice}\")\n",
    "    print(f\"Computer chose: {computer_choice}\")\n",
    "    if user_choice == computer_choice:\n",
    "        return \"It's a tie!\"\n",
    "    elif (user_choice == 'rock' and computer_choice == 'scissors') or \\\n",
    "         (user_choice == 'paper' and computer_choice == 'rock') or \\\n",
    "         (user_choice == 'scissors' and computer_choice == 'paper'):\n",
    "        return \"You win!\"\n",
    "    else:\n",
    "        return \"Computer wins!\"\n",
    "if __name__ == \"__main__\":\n",
    "    print(\"Welcome to Rock-Paper-Scissors Game!\")\n",
    "    result = play_game()\n",
    "    print(result)"
   ]
  },
  {
   "cell_type": "code",
   "execution_count": 11,
   "id": "7e1690a1-d672-4d09-a224-d394bf4fcfd2",
   "metadata": {},
   "outputs": [
    {
     "name": "stdout",
     "output_type": "stream",
     "text": [
      "Welcome to Random Password Generator!\n"
     ]
    },
    {
     "name": "stdin",
     "output_type": "stream",
     "text": [
      "Enter the length of the password:  54\n",
      "Include uppercase letters? (yes/no):  no\n",
      "Include numbers? (yes/no):  no\n",
      "Include symbols? (yes/no):  no\n"
     ]
    },
    {
     "name": "stdout",
     "output_type": "stream",
     "text": [
      "Generated Password: scbpkrrpkfjrjyyrjqoieemmqgmmxpkivgtvsdmfwdqbgorvhegzbn\n"
     ]
    }
   ],
   "source": [
    "#23. Develop a program that generates a random password based on user preferences (length, complexity).\n",
    "import random\n",
    "import string\n",
    "def generate_password(length, use_uppercase, use_numbers, use_symbols):\n",
    "    characters = string.ascii_letters + string.digits + string.punctuation if use_uppercase or use_numbers or use_symbols else string.ascii_lowercase\n",
    "    return ''.join(random.choice(characters) for _ in range(length))\n",
    "def main():\n",
    "    print(\"Welcome to Random Password Generator!\")\n",
    "    length = int(input(\"Enter the length of the password: \"))\n",
    "    use_uppercase = input(\"Include uppercase letters? (yes/no): \").lower() == 'yes'\n",
    "    use_numbers = input(\"Include numbers? (yes/no): \").lower() == 'yes'\n",
    "    use_symbols = input(\"Include symbols? (yes/no): \").lower() == 'yes'\n",
    "    password = generate_password(length, use_uppercase, use_numbers, use_symbols)\n",
    "    print(f\"Generated Password: {password}\")\n",
    "if __name__ == \"__main__\":\n",
    "    main()"
   ]
  }
 ],
 "metadata": {
  "kernelspec": {
   "display_name": "Python 3 (ipykernel)",
   "language": "python",
   "name": "python3"
  },
  "language_info": {
   "codemirror_mode": {
    "name": "ipython",
    "version": 3
   },
   "file_extension": ".py",
   "mimetype": "text/x-python",
   "name": "python",
   "nbconvert_exporter": "python",
   "pygments_lexer": "ipython3",
   "version": "3.10.8"
  }
 },
 "nbformat": 4,
 "nbformat_minor": 5
}
